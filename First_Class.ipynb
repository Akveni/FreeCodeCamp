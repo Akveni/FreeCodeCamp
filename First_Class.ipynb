{
  "nbformat": 4,
  "nbformat_minor": 0,
  "metadata": {
    "kernelspec": {
      "display_name": "Python 3",
      "language": "python",
      "name": "python3"
    },
    "language_info": {
      "codemirror_mode": {
        "name": "ipython",
        "version": 3
      },
      "file_extension": ".py",
      "mimetype": "text/x-python",
      "name": "python",
      "nbconvert_exporter": "python",
      "pygments_lexer": "ipython3",
      "version": "3.7.4"
    },
    "colab": {
      "name": "First_Class.ipynb",
      "provenance": [],
      "collapsed_sections": [],
      "include_colab_link": true
    }
  },
  "cells": [
    {
      "cell_type": "markdown",
      "metadata": {
        "id": "view-in-github",
        "colab_type": "text"
      },
      "source": [
        "<a href=\"https://colab.research.google.com/github/Akveni/FreeCodeCamp/blob/master/First_Class.ipynb\" target=\"_parent\"><img src=\"https://colab.research.google.com/assets/colab-badge.svg\" alt=\"Open In Colab\"/></a>"
      ]
    },
    {
      "cell_type": "markdown",
      "metadata": {
        "id": "ntgnVPg_7j_4"
      },
      "source": [
        "## Structure of the Notebook"
      ]
    },
    {
      "cell_type": "markdown",
      "metadata": {
        "id": "xYvOFcun7j_6"
      },
      "source": [
        "1. Read file \n",
        "2. Understand file\n",
        "3. Understand variables individually - Univariate\n",
        "4. Relationship with target - Bivariate\n",
        "5. Build and Evaluate Model"
      ]
    },
    {
      "cell_type": "code",
      "metadata": {
        "id": "wsa0uiuy7j_7"
      },
      "source": [
        "import pandas as pd"
      ],
      "execution_count": null,
      "outputs": []
    },
    {
      "cell_type": "markdown",
      "metadata": {
        "id": "FtcSmIIY7j_-"
      },
      "source": [
        "[link text](https://)* Pandas is a library written for the Python programming language for data manipulation and analysis"
      ]
    },
    {
      "cell_type": "markdown",
      "metadata": {
        "id": "raHIZfl17j__"
      },
      "source": [
        "# 1. Read Data"
      ]
    },
    {
      "cell_type": "code",
      "metadata": {
        "id": "aw8yOUYO7j__"
      },
      "source": [
        "import numpy as np\n",
        "import pandas as pd\n"
      ],
      "execution_count": 1,
      "outputs": []
    },
    {
      "cell_type": "code",
      "metadata": {
        "id": "Z2Ti3c3cFfPm"
      },
      "source": [
        "import matplotlib.pyplot as plt\n",
        "import seaborn as sns"
      ],
      "execution_count": 2,
      "outputs": []
    },
    {
      "cell_type": "code",
      "metadata": {
        "id": "6R0D8PsHGiDt",
        "colab": {
          "base_uri": "https://localhost:8080/"
        },
        "outputId": "f51f5f08-f50f-41dd-f402-cf5134c3fef8"
      },
      "source": [
        "from google.colab import drive\n",
        "drive.mount('/content/drive')"
      ],
      "execution_count": 77,
      "outputs": [
        {
          "output_type": "stream",
          "text": [
            "Mounted at /content/drive\n"
          ],
          "name": "stdout"
        }
      ]
    },
    {
      "cell_type": "code",
      "metadata": {
        "id": "yD9Maf12Ff7P"
      },
      "source": [
        ""
      ],
      "execution_count": null,
      "outputs": []
    },
    {
      "cell_type": "code",
      "metadata": {
        "id": "MIsYNaaE7kAC"
      },
      "source": [
        "data = pd.read_excel('/content/House_Price.xlsx')"
      ],
      "execution_count": 4,
      "outputs": []
    },
    {
      "cell_type": "markdown",
      "metadata": {
        "id": "Fesb5aR77kAF"
      },
      "source": [
        "* __What if Data needs to be taken from multiple sheets in excel file ?__"
      ]
    },
    {
      "cell_type": "code",
      "metadata": {
        "id": "Jgv4259I7kAG"
      },
      "source": [
        "data_1 = pd.read_excel('/content/House_Price.xlsx', sheet_name='Sheet2')"
      ],
      "execution_count": 5,
      "outputs": []
    },
    {
      "cell_type": "code",
      "metadata": {
        "id": "1445ZQiH7kAJ",
        "colab": {
          "base_uri": "https://localhost:8080/",
          "height": 402
        },
        "outputId": "51b20bd5-6fb1-486f-de47-0f49eb1cab43"
      },
      "source": [
        "data_1"
      ],
      "execution_count": 6,
      "outputs": [
        {
          "output_type": "execute_result",
          "data": {
            "text/html": [
              "<div>\n",
              "<style scoped>\n",
              "    .dataframe tbody tr th:only-of-type {\n",
              "        vertical-align: middle;\n",
              "    }\n",
              "\n",
              "    .dataframe tbody tr th {\n",
              "        vertical-align: top;\n",
              "    }\n",
              "\n",
              "    .dataframe thead th {\n",
              "        text-align: right;\n",
              "    }\n",
              "</style>\n",
              "<table border=\"1\" class=\"dataframe\">\n",
              "  <thead>\n",
              "    <tr style=\"text-align: right;\">\n",
              "      <th></th>\n",
              "      <th>Id</th>\n",
              "      <th>Street</th>\n",
              "      <th>Shape</th>\n",
              "      <th>Utilities</th>\n",
              "      <th>OverallQual</th>\n",
              "      <th>YearBuilt</th>\n",
              "      <th>LivArea</th>\n",
              "      <th>Bath</th>\n",
              "      <th>Kitchen</th>\n",
              "      <th>Rooms</th>\n",
              "      <th>Parking Space</th>\n",
              "      <th>PriceCategory</th>\n",
              "    </tr>\n",
              "  </thead>\n",
              "  <tbody>\n",
              "    <tr>\n",
              "      <th>0</th>\n",
              "      <td>1</td>\n",
              "      <td>Pave</td>\n",
              "      <td>Reg</td>\n",
              "      <td>AllPub</td>\n",
              "      <td>7</td>\n",
              "      <td>2003</td>\n",
              "      <td>1710</td>\n",
              "      <td>2</td>\n",
              "      <td>1</td>\n",
              "      <td>8</td>\n",
              "      <td>2</td>\n",
              "      <td>high</td>\n",
              "    </tr>\n",
              "    <tr>\n",
              "      <th>1</th>\n",
              "      <td>2</td>\n",
              "      <td>Pave</td>\n",
              "      <td>Reg</td>\n",
              "      <td>AllPub</td>\n",
              "      <td>6</td>\n",
              "      <td>1976</td>\n",
              "      <td>1262</td>\n",
              "      <td>2</td>\n",
              "      <td>1</td>\n",
              "      <td>6</td>\n",
              "      <td>2</td>\n",
              "      <td>medium</td>\n",
              "    </tr>\n",
              "    <tr>\n",
              "      <th>2</th>\n",
              "      <td>3</td>\n",
              "      <td>Pave</td>\n",
              "      <td>IReg</td>\n",
              "      <td>AllPub</td>\n",
              "      <td>7</td>\n",
              "      <td>2001</td>\n",
              "      <td>1786</td>\n",
              "      <td>2</td>\n",
              "      <td>1</td>\n",
              "      <td>6</td>\n",
              "      <td>2</td>\n",
              "      <td>high</td>\n",
              "    </tr>\n",
              "    <tr>\n",
              "      <th>3</th>\n",
              "      <td>4</td>\n",
              "      <td>Pave</td>\n",
              "      <td>IReg</td>\n",
              "      <td>AllPub</td>\n",
              "      <td>7</td>\n",
              "      <td>1915</td>\n",
              "      <td>1717</td>\n",
              "      <td>1</td>\n",
              "      <td>1</td>\n",
              "      <td>7</td>\n",
              "      <td>3</td>\n",
              "      <td>medium</td>\n",
              "    </tr>\n",
              "    <tr>\n",
              "      <th>4</th>\n",
              "      <td>5</td>\n",
              "      <td>Pave</td>\n",
              "      <td>IReg</td>\n",
              "      <td>AllPub</td>\n",
              "      <td>8</td>\n",
              "      <td>2000</td>\n",
              "      <td>2198</td>\n",
              "      <td>2</td>\n",
              "      <td>1</td>\n",
              "      <td>9</td>\n",
              "      <td>3</td>\n",
              "      <td>high</td>\n",
              "    </tr>\n",
              "    <tr>\n",
              "      <th>...</th>\n",
              "      <td>...</td>\n",
              "      <td>...</td>\n",
              "      <td>...</td>\n",
              "      <td>...</td>\n",
              "      <td>...</td>\n",
              "      <td>...</td>\n",
              "      <td>...</td>\n",
              "      <td>...</td>\n",
              "      <td>...</td>\n",
              "      <td>...</td>\n",
              "      <td>...</td>\n",
              "      <td>...</td>\n",
              "    </tr>\n",
              "    <tr>\n",
              "      <th>695</th>\n",
              "      <td>696</td>\n",
              "      <td>Pave</td>\n",
              "      <td>IReg</td>\n",
              "      <td>AllPub</td>\n",
              "      <td>6</td>\n",
              "      <td>1987</td>\n",
              "      <td>1137</td>\n",
              "      <td>2</td>\n",
              "      <td>1</td>\n",
              "      <td>5</td>\n",
              "      <td>2</td>\n",
              "      <td>medium</td>\n",
              "    </tr>\n",
              "    <tr>\n",
              "      <th>696</th>\n",
              "      <td>697</td>\n",
              "      <td>Pave</td>\n",
              "      <td>Reg</td>\n",
              "      <td>AllPub</td>\n",
              "      <td>5</td>\n",
              "      <td>1921</td>\n",
              "      <td>616</td>\n",
              "      <td>1</td>\n",
              "      <td>1</td>\n",
              "      <td>4</td>\n",
              "      <td>1</td>\n",
              "      <td>low</td>\n",
              "    </tr>\n",
              "    <tr>\n",
              "      <th>697</th>\n",
              "      <td>698</td>\n",
              "      <td>Pave</td>\n",
              "      <td>IReg</td>\n",
              "      <td>AllPub</td>\n",
              "      <td>5</td>\n",
              "      <td>1952</td>\n",
              "      <td>1148</td>\n",
              "      <td>1</td>\n",
              "      <td>1</td>\n",
              "      <td>6</td>\n",
              "      <td>1</td>\n",
              "      <td>low</td>\n",
              "    </tr>\n",
              "    <tr>\n",
              "      <th>698</th>\n",
              "      <td>699</td>\n",
              "      <td>Pave</td>\n",
              "      <td>Reg</td>\n",
              "      <td>AllPub</td>\n",
              "      <td>5</td>\n",
              "      <td>1965</td>\n",
              "      <td>894</td>\n",
              "      <td>1</td>\n",
              "      <td>1</td>\n",
              "      <td>5</td>\n",
              "      <td>1</td>\n",
              "      <td>medium</td>\n",
              "    </tr>\n",
              "    <tr>\n",
              "      <th>699</th>\n",
              "      <td>700</td>\n",
              "      <td>Pave</td>\n",
              "      <td>IReg</td>\n",
              "      <td>AllPub</td>\n",
              "      <td>7</td>\n",
              "      <td>2004</td>\n",
              "      <td>1391</td>\n",
              "      <td>2</td>\n",
              "      <td>1</td>\n",
              "      <td>5</td>\n",
              "      <td>2</td>\n",
              "      <td>medium</td>\n",
              "    </tr>\n",
              "  </tbody>\n",
              "</table>\n",
              "<p>700 rows × 12 columns</p>\n",
              "</div>"
            ],
            "text/plain": [
              "      Id Street Shape Utilities  ...  Kitchen  Rooms  Parking Space  PriceCategory\n",
              "0      1   Pave   Reg    AllPub  ...        1      8              2           high\n",
              "1      2   Pave   Reg    AllPub  ...        1      6              2         medium\n",
              "2      3   Pave  IReg    AllPub  ...        1      6              2           high\n",
              "3      4   Pave  IReg    AllPub  ...        1      7              3         medium\n",
              "4      5   Pave  IReg    AllPub  ...        1      9              3           high\n",
              "..   ...    ...   ...       ...  ...      ...    ...            ...            ...\n",
              "695  696   Pave  IReg    AllPub  ...        1      5              2         medium\n",
              "696  697   Pave   Reg    AllPub  ...        1      4              1            low\n",
              "697  698   Pave  IReg    AllPub  ...        1      6              1            low\n",
              "698  699   Pave   Reg    AllPub  ...        1      5              1         medium\n",
              "699  700   Pave  IReg    AllPub  ...        1      5              2         medium\n",
              "\n",
              "[700 rows x 12 columns]"
            ]
          },
          "metadata": {
            "tags": []
          },
          "execution_count": 6
        }
      ]
    },
    {
      "cell_type": "code",
      "metadata": {
        "id": "U9DRcS4i7kAM"
      },
      "source": [
        "data_2 = pd.read_excel('/content/House_Price.xlsx', sheet_name='Sheet3')"
      ],
      "execution_count": 7,
      "outputs": []
    },
    {
      "cell_type": "code",
      "metadata": {
        "id": "6Xzz9sCO7kAP",
        "colab": {
          "base_uri": "https://localhost:8080/",
          "height": 402
        },
        "outputId": "94dc64bb-5076-4795-c49f-642824a33f3f"
      },
      "source": [
        "data_2"
      ],
      "execution_count": 8,
      "outputs": [
        {
          "output_type": "execute_result",
          "data": {
            "text/html": [
              "<div>\n",
              "<style scoped>\n",
              "    .dataframe tbody tr th:only-of-type {\n",
              "        vertical-align: middle;\n",
              "    }\n",
              "\n",
              "    .dataframe tbody tr th {\n",
              "        vertical-align: top;\n",
              "    }\n",
              "\n",
              "    .dataframe thead th {\n",
              "        text-align: right;\n",
              "    }\n",
              "</style>\n",
              "<table border=\"1\" class=\"dataframe\">\n",
              "  <thead>\n",
              "    <tr style=\"text-align: right;\">\n",
              "      <th></th>\n",
              "      <th>Id</th>\n",
              "      <th>Street</th>\n",
              "      <th>Shape</th>\n",
              "      <th>Utilities</th>\n",
              "      <th>OverallQual</th>\n",
              "      <th>YearBuilt</th>\n",
              "      <th>LivArea</th>\n",
              "      <th>Bath</th>\n",
              "      <th>Kitchen</th>\n",
              "      <th>Rooms</th>\n",
              "      <th>Parking Space</th>\n",
              "      <th>PriceCategory</th>\n",
              "    </tr>\n",
              "  </thead>\n",
              "  <tbody>\n",
              "    <tr>\n",
              "      <th>0</th>\n",
              "      <td>701</td>\n",
              "      <td>Pave</td>\n",
              "      <td>Reg</td>\n",
              "      <td>AllPub</td>\n",
              "      <td>8</td>\n",
              "      <td>2002</td>\n",
              "      <td>1800</td>\n",
              "      <td>2</td>\n",
              "      <td>1</td>\n",
              "      <td>7</td>\n",
              "      <td>3</td>\n",
              "      <td>high</td>\n",
              "    </tr>\n",
              "    <tr>\n",
              "      <th>1</th>\n",
              "      <td>702</td>\n",
              "      <td>Pave</td>\n",
              "      <td>Reg</td>\n",
              "      <td>AllPub</td>\n",
              "      <td>7</td>\n",
              "      <td>1969</td>\n",
              "      <td>1164</td>\n",
              "      <td>1</td>\n",
              "      <td>1</td>\n",
              "      <td>6</td>\n",
              "      <td>2</td>\n",
              "      <td>medium</td>\n",
              "    </tr>\n",
              "    <tr>\n",
              "      <th>2</th>\n",
              "      <td>703</td>\n",
              "      <td>Pave</td>\n",
              "      <td>IReg</td>\n",
              "      <td>AllPub</td>\n",
              "      <td>8</td>\n",
              "      <td>2006</td>\n",
              "      <td>2576</td>\n",
              "      <td>2</td>\n",
              "      <td>1</td>\n",
              "      <td>10</td>\n",
              "      <td>3</td>\n",
              "      <td>high</td>\n",
              "    </tr>\n",
              "    <tr>\n",
              "      <th>3</th>\n",
              "      <td>704</td>\n",
              "      <td>Pave</td>\n",
              "      <td>Reg</td>\n",
              "      <td>AllPub</td>\n",
              "      <td>5</td>\n",
              "      <td>1900</td>\n",
              "      <td>1812</td>\n",
              "      <td>2</td>\n",
              "      <td>2</td>\n",
              "      <td>8</td>\n",
              "      <td>2</td>\n",
              "      <td>medium</td>\n",
              "    </tr>\n",
              "    <tr>\n",
              "      <th>4</th>\n",
              "      <td>705</td>\n",
              "      <td>Pave</td>\n",
              "      <td>Reg</td>\n",
              "      <td>AllPub</td>\n",
              "      <td>7</td>\n",
              "      <td>2004</td>\n",
              "      <td>1484</td>\n",
              "      <td>2</td>\n",
              "      <td>1</td>\n",
              "      <td>7</td>\n",
              "      <td>2</td>\n",
              "      <td>high</td>\n",
              "    </tr>\n",
              "    <tr>\n",
              "      <th>...</th>\n",
              "      <td>...</td>\n",
              "      <td>...</td>\n",
              "      <td>...</td>\n",
              "      <td>...</td>\n",
              "      <td>...</td>\n",
              "      <td>...</td>\n",
              "      <td>...</td>\n",
              "      <td>...</td>\n",
              "      <td>...</td>\n",
              "      <td>...</td>\n",
              "      <td>...</td>\n",
              "      <td>...</td>\n",
              "    </tr>\n",
              "    <tr>\n",
              "      <th>755</th>\n",
              "      <td>1456</td>\n",
              "      <td>Pave</td>\n",
              "      <td>Reg</td>\n",
              "      <td>AllPub</td>\n",
              "      <td>6</td>\n",
              "      <td>1999</td>\n",
              "      <td>1647</td>\n",
              "      <td>2</td>\n",
              "      <td>1</td>\n",
              "      <td>7</td>\n",
              "      <td>2</td>\n",
              "      <td>medium</td>\n",
              "    </tr>\n",
              "    <tr>\n",
              "      <th>756</th>\n",
              "      <td>1457</td>\n",
              "      <td>Pave</td>\n",
              "      <td>Reg</td>\n",
              "      <td>AllPub</td>\n",
              "      <td>6</td>\n",
              "      <td>1978</td>\n",
              "      <td>2073</td>\n",
              "      <td>2</td>\n",
              "      <td>1</td>\n",
              "      <td>7</td>\n",
              "      <td>2</td>\n",
              "      <td>high</td>\n",
              "    </tr>\n",
              "    <tr>\n",
              "      <th>757</th>\n",
              "      <td>1458</td>\n",
              "      <td>Pave</td>\n",
              "      <td>Reg</td>\n",
              "      <td>AllPub</td>\n",
              "      <td>7</td>\n",
              "      <td>1941</td>\n",
              "      <td>2340</td>\n",
              "      <td>2</td>\n",
              "      <td>1</td>\n",
              "      <td>9</td>\n",
              "      <td>1</td>\n",
              "      <td>high</td>\n",
              "    </tr>\n",
              "    <tr>\n",
              "      <th>758</th>\n",
              "      <td>1459</td>\n",
              "      <td>Pave</td>\n",
              "      <td>Reg</td>\n",
              "      <td>AllPub</td>\n",
              "      <td>5</td>\n",
              "      <td>1950</td>\n",
              "      <td>1078</td>\n",
              "      <td>1</td>\n",
              "      <td>1</td>\n",
              "      <td>5</td>\n",
              "      <td>1</td>\n",
              "      <td>medium</td>\n",
              "    </tr>\n",
              "    <tr>\n",
              "      <th>759</th>\n",
              "      <td>1460</td>\n",
              "      <td>Pave</td>\n",
              "      <td>Reg</td>\n",
              "      <td>AllPub</td>\n",
              "      <td>5</td>\n",
              "      <td>1965</td>\n",
              "      <td>1256</td>\n",
              "      <td>1</td>\n",
              "      <td>1</td>\n",
              "      <td>6</td>\n",
              "      <td>1</td>\n",
              "      <td>medium</td>\n",
              "    </tr>\n",
              "  </tbody>\n",
              "</table>\n",
              "<p>760 rows × 12 columns</p>\n",
              "</div>"
            ],
            "text/plain": [
              "       Id Street Shape Utilities  ...  Kitchen  Rooms  Parking Space  PriceCategory\n",
              "0     701   Pave   Reg    AllPub  ...        1      7              3           high\n",
              "1     702   Pave   Reg    AllPub  ...        1      6              2         medium\n",
              "2     703   Pave  IReg    AllPub  ...        1     10              3           high\n",
              "3     704   Pave   Reg    AllPub  ...        2      8              2         medium\n",
              "4     705   Pave   Reg    AllPub  ...        1      7              2           high\n",
              "..    ...    ...   ...       ...  ...      ...    ...            ...            ...\n",
              "755  1456   Pave   Reg    AllPub  ...        1      7              2         medium\n",
              "756  1457   Pave   Reg    AllPub  ...        1      7              2           high\n",
              "757  1458   Pave   Reg    AllPub  ...        1      9              1           high\n",
              "758  1459   Pave   Reg    AllPub  ...        1      5              1         medium\n",
              "759  1460   Pave   Reg    AllPub  ...        1      6              1         medium\n",
              "\n",
              "[760 rows x 12 columns]"
            ]
          },
          "metadata": {
            "tags": []
          },
          "execution_count": 8
        }
      ]
    },
    {
      "cell_type": "code",
      "metadata": {
        "id": "4whInv_QMG2H"
      },
      "source": [
        "df = pd.DataFrame(pd.read_excel(\"/content/House_Price.xlsx\")) "
      ],
      "execution_count": 9,
      "outputs": []
    },
    {
      "cell_type": "code",
      "metadata": {
        "colab": {
          "base_uri": "https://localhost:8080/",
          "height": 402
        },
        "id": "KX6YqOpqL9qA",
        "outputId": "6d2ce39b-d9c0-4763-948e-c9d0a82224a0"
      },
      "source": [
        "df"
      ],
      "execution_count": 10,
      "outputs": [
        {
          "output_type": "execute_result",
          "data": {
            "text/html": [
              "<div>\n",
              "<style scoped>\n",
              "    .dataframe tbody tr th:only-of-type {\n",
              "        vertical-align: middle;\n",
              "    }\n",
              "\n",
              "    .dataframe tbody tr th {\n",
              "        vertical-align: top;\n",
              "    }\n",
              "\n",
              "    .dataframe thead th {\n",
              "        text-align: right;\n",
              "    }\n",
              "</style>\n",
              "<table border=\"1\" class=\"dataframe\">\n",
              "  <thead>\n",
              "    <tr style=\"text-align: right;\">\n",
              "      <th></th>\n",
              "      <th>Id</th>\n",
              "      <th>Street</th>\n",
              "      <th>Shape</th>\n",
              "      <th>Utilities</th>\n",
              "      <th>OverallQual</th>\n",
              "      <th>YearBuilt</th>\n",
              "      <th>LivArea</th>\n",
              "      <th>Bath</th>\n",
              "      <th>Kitchen</th>\n",
              "      <th>Rooms</th>\n",
              "      <th>Parking Space</th>\n",
              "      <th>PriceCategory</th>\n",
              "    </tr>\n",
              "  </thead>\n",
              "  <tbody>\n",
              "    <tr>\n",
              "      <th>0</th>\n",
              "      <td>1</td>\n",
              "      <td>Pave</td>\n",
              "      <td>Reg</td>\n",
              "      <td>AllPub</td>\n",
              "      <td>7</td>\n",
              "      <td>2003</td>\n",
              "      <td>1710</td>\n",
              "      <td>2</td>\n",
              "      <td>1</td>\n",
              "      <td>8</td>\n",
              "      <td>2</td>\n",
              "      <td>high</td>\n",
              "    </tr>\n",
              "    <tr>\n",
              "      <th>1</th>\n",
              "      <td>2</td>\n",
              "      <td>Pave</td>\n",
              "      <td>Reg</td>\n",
              "      <td>AllPub</td>\n",
              "      <td>6</td>\n",
              "      <td>1976</td>\n",
              "      <td>1262</td>\n",
              "      <td>2</td>\n",
              "      <td>1</td>\n",
              "      <td>6</td>\n",
              "      <td>2</td>\n",
              "      <td>medium</td>\n",
              "    </tr>\n",
              "    <tr>\n",
              "      <th>2</th>\n",
              "      <td>3</td>\n",
              "      <td>Pave</td>\n",
              "      <td>IReg</td>\n",
              "      <td>AllPub</td>\n",
              "      <td>7</td>\n",
              "      <td>2001</td>\n",
              "      <td>1786</td>\n",
              "      <td>2</td>\n",
              "      <td>1</td>\n",
              "      <td>6</td>\n",
              "      <td>2</td>\n",
              "      <td>high</td>\n",
              "    </tr>\n",
              "    <tr>\n",
              "      <th>3</th>\n",
              "      <td>4</td>\n",
              "      <td>Pave</td>\n",
              "      <td>IReg</td>\n",
              "      <td>AllPub</td>\n",
              "      <td>7</td>\n",
              "      <td>1915</td>\n",
              "      <td>1717</td>\n",
              "      <td>1</td>\n",
              "      <td>1</td>\n",
              "      <td>7</td>\n",
              "      <td>3</td>\n",
              "      <td>medium</td>\n",
              "    </tr>\n",
              "    <tr>\n",
              "      <th>4</th>\n",
              "      <td>5</td>\n",
              "      <td>Pave</td>\n",
              "      <td>IReg</td>\n",
              "      <td>AllPub</td>\n",
              "      <td>8</td>\n",
              "      <td>2000</td>\n",
              "      <td>2198</td>\n",
              "      <td>2</td>\n",
              "      <td>1</td>\n",
              "      <td>9</td>\n",
              "      <td>3</td>\n",
              "      <td>high</td>\n",
              "    </tr>\n",
              "    <tr>\n",
              "      <th>...</th>\n",
              "      <td>...</td>\n",
              "      <td>...</td>\n",
              "      <td>...</td>\n",
              "      <td>...</td>\n",
              "      <td>...</td>\n",
              "      <td>...</td>\n",
              "      <td>...</td>\n",
              "      <td>...</td>\n",
              "      <td>...</td>\n",
              "      <td>...</td>\n",
              "      <td>...</td>\n",
              "      <td>...</td>\n",
              "    </tr>\n",
              "    <tr>\n",
              "      <th>1455</th>\n",
              "      <td>1456</td>\n",
              "      <td>Pave</td>\n",
              "      <td>Reg</td>\n",
              "      <td>AllPub</td>\n",
              "      <td>6</td>\n",
              "      <td>1999</td>\n",
              "      <td>1647</td>\n",
              "      <td>2</td>\n",
              "      <td>1</td>\n",
              "      <td>7</td>\n",
              "      <td>2</td>\n",
              "      <td>medium</td>\n",
              "    </tr>\n",
              "    <tr>\n",
              "      <th>1456</th>\n",
              "      <td>1457</td>\n",
              "      <td>Pave</td>\n",
              "      <td>Reg</td>\n",
              "      <td>AllPub</td>\n",
              "      <td>6</td>\n",
              "      <td>1978</td>\n",
              "      <td>2073</td>\n",
              "      <td>2</td>\n",
              "      <td>1</td>\n",
              "      <td>7</td>\n",
              "      <td>2</td>\n",
              "      <td>high</td>\n",
              "    </tr>\n",
              "    <tr>\n",
              "      <th>1457</th>\n",
              "      <td>1458</td>\n",
              "      <td>Pave</td>\n",
              "      <td>Reg</td>\n",
              "      <td>AllPub</td>\n",
              "      <td>7</td>\n",
              "      <td>1941</td>\n",
              "      <td>2340</td>\n",
              "      <td>2</td>\n",
              "      <td>1</td>\n",
              "      <td>9</td>\n",
              "      <td>1</td>\n",
              "      <td>high</td>\n",
              "    </tr>\n",
              "    <tr>\n",
              "      <th>1458</th>\n",
              "      <td>1459</td>\n",
              "      <td>Pave</td>\n",
              "      <td>Reg</td>\n",
              "      <td>AllPub</td>\n",
              "      <td>5</td>\n",
              "      <td>1950</td>\n",
              "      <td>1078</td>\n",
              "      <td>1</td>\n",
              "      <td>1</td>\n",
              "      <td>5</td>\n",
              "      <td>1</td>\n",
              "      <td>medium</td>\n",
              "    </tr>\n",
              "    <tr>\n",
              "      <th>1459</th>\n",
              "      <td>1460</td>\n",
              "      <td>Pave</td>\n",
              "      <td>Reg</td>\n",
              "      <td>AllPub</td>\n",
              "      <td>5</td>\n",
              "      <td>1965</td>\n",
              "      <td>1256</td>\n",
              "      <td>1</td>\n",
              "      <td>1</td>\n",
              "      <td>6</td>\n",
              "      <td>1</td>\n",
              "      <td>medium</td>\n",
              "    </tr>\n",
              "  </tbody>\n",
              "</table>\n",
              "<p>1460 rows × 12 columns</p>\n",
              "</div>"
            ],
            "text/plain": [
              "        Id Street Shape Utilities  ...  Kitchen  Rooms  Parking Space  PriceCategory\n",
              "0        1   Pave   Reg    AllPub  ...        1      8              2           high\n",
              "1        2   Pave   Reg    AllPub  ...        1      6              2         medium\n",
              "2        3   Pave  IReg    AllPub  ...        1      6              2           high\n",
              "3        4   Pave  IReg    AllPub  ...        1      7              3         medium\n",
              "4        5   Pave  IReg    AllPub  ...        1      9              3           high\n",
              "...    ...    ...   ...       ...  ...      ...    ...            ...            ...\n",
              "1455  1456   Pave   Reg    AllPub  ...        1      7              2         medium\n",
              "1456  1457   Pave   Reg    AllPub  ...        1      7              2           high\n",
              "1457  1458   Pave   Reg    AllPub  ...        1      9              1           high\n",
              "1458  1459   Pave   Reg    AllPub  ...        1      5              1         medium\n",
              "1459  1460   Pave   Reg    AllPub  ...        1      6              1         medium\n",
              "\n",
              "[1460 rows x 12 columns]"
            ]
          },
          "metadata": {
            "tags": []
          },
          "execution_count": 10
        }
      ]
    },
    {
      "cell_type": "markdown",
      "metadata": {
        "id": "Suk87Ul67kAS"
      },
      "source": [
        "* __What if data is stored as csv file ?__"
      ]
    },
    {
      "cell_type": "code",
      "metadata": {
        "id": "3_b61d8A7kAT"
      },
      "source": [
        "data_3 = pd.read_csv('/content/House_Price.xlsx')"
      ],
      "execution_count": null,
      "outputs": []
    },
    {
      "cell_type": "code",
      "metadata": {
        "scrolled": true,
        "id": "tSAUMkKI7kAV"
      },
      "source": [
        "data_3.tail(7)"
      ],
      "execution_count": null,
      "outputs": []
    },
    {
      "cell_type": "markdown",
      "metadata": {
        "id": "sSUW2C1j7kAY"
      },
      "source": [
        "# 2. Basic Attributes"
      ]
    },
    {
      "cell_type": "code",
      "metadata": {
        "id": "x7Xx2rEH7kAZ",
        "colab": {
          "base_uri": "https://localhost:8080/"
        },
        "outputId": "f4df0c45-f077-4f59-c114-4e4b07ba7315"
      },
      "source": [
        "data.shape"
      ],
      "execution_count": 13,
      "outputs": [
        {
          "output_type": "execute_result",
          "data": {
            "text/plain": [
              "(1460, 12)"
            ]
          },
          "metadata": {
            "tags": []
          },
          "execution_count": 13
        }
      ]
    },
    {
      "cell_type": "markdown",
      "metadata": {
        "id": "RtFaU0Xe7kAc"
      },
      "source": [
        "* There are 1460 observations in our data set with 12 features"
      ]
    },
    {
      "cell_type": "code",
      "metadata": {
        "id": "qaLc24RG7kAc",
        "colab": {
          "base_uri": "https://localhost:8080/",
          "height": 254
        },
        "outputId": "8a21be11-60f1-404e-e5f7-feda26652ba9"
      },
      "source": [
        "data.head(7) "
      ],
      "execution_count": 14,
      "outputs": [
        {
          "output_type": "execute_result",
          "data": {
            "text/html": [
              "<div>\n",
              "<style scoped>\n",
              "    .dataframe tbody tr th:only-of-type {\n",
              "        vertical-align: middle;\n",
              "    }\n",
              "\n",
              "    .dataframe tbody tr th {\n",
              "        vertical-align: top;\n",
              "    }\n",
              "\n",
              "    .dataframe thead th {\n",
              "        text-align: right;\n",
              "    }\n",
              "</style>\n",
              "<table border=\"1\" class=\"dataframe\">\n",
              "  <thead>\n",
              "    <tr style=\"text-align: right;\">\n",
              "      <th></th>\n",
              "      <th>Id</th>\n",
              "      <th>Street</th>\n",
              "      <th>Shape</th>\n",
              "      <th>Utilities</th>\n",
              "      <th>OverallQual</th>\n",
              "      <th>YearBuilt</th>\n",
              "      <th>LivArea</th>\n",
              "      <th>Bath</th>\n",
              "      <th>Kitchen</th>\n",
              "      <th>Rooms</th>\n",
              "      <th>Parking Space</th>\n",
              "      <th>PriceCategory</th>\n",
              "    </tr>\n",
              "  </thead>\n",
              "  <tbody>\n",
              "    <tr>\n",
              "      <th>0</th>\n",
              "      <td>1</td>\n",
              "      <td>Pave</td>\n",
              "      <td>Reg</td>\n",
              "      <td>AllPub</td>\n",
              "      <td>7</td>\n",
              "      <td>2003</td>\n",
              "      <td>1710</td>\n",
              "      <td>2</td>\n",
              "      <td>1</td>\n",
              "      <td>8</td>\n",
              "      <td>2</td>\n",
              "      <td>high</td>\n",
              "    </tr>\n",
              "    <tr>\n",
              "      <th>1</th>\n",
              "      <td>2</td>\n",
              "      <td>Pave</td>\n",
              "      <td>Reg</td>\n",
              "      <td>AllPub</td>\n",
              "      <td>6</td>\n",
              "      <td>1976</td>\n",
              "      <td>1262</td>\n",
              "      <td>2</td>\n",
              "      <td>1</td>\n",
              "      <td>6</td>\n",
              "      <td>2</td>\n",
              "      <td>medium</td>\n",
              "    </tr>\n",
              "    <tr>\n",
              "      <th>2</th>\n",
              "      <td>3</td>\n",
              "      <td>Pave</td>\n",
              "      <td>IReg</td>\n",
              "      <td>AllPub</td>\n",
              "      <td>7</td>\n",
              "      <td>2001</td>\n",
              "      <td>1786</td>\n",
              "      <td>2</td>\n",
              "      <td>1</td>\n",
              "      <td>6</td>\n",
              "      <td>2</td>\n",
              "      <td>high</td>\n",
              "    </tr>\n",
              "    <tr>\n",
              "      <th>3</th>\n",
              "      <td>4</td>\n",
              "      <td>Pave</td>\n",
              "      <td>IReg</td>\n",
              "      <td>AllPub</td>\n",
              "      <td>7</td>\n",
              "      <td>1915</td>\n",
              "      <td>1717</td>\n",
              "      <td>1</td>\n",
              "      <td>1</td>\n",
              "      <td>7</td>\n",
              "      <td>3</td>\n",
              "      <td>medium</td>\n",
              "    </tr>\n",
              "    <tr>\n",
              "      <th>4</th>\n",
              "      <td>5</td>\n",
              "      <td>Pave</td>\n",
              "      <td>IReg</td>\n",
              "      <td>AllPub</td>\n",
              "      <td>8</td>\n",
              "      <td>2000</td>\n",
              "      <td>2198</td>\n",
              "      <td>2</td>\n",
              "      <td>1</td>\n",
              "      <td>9</td>\n",
              "      <td>3</td>\n",
              "      <td>high</td>\n",
              "    </tr>\n",
              "    <tr>\n",
              "      <th>5</th>\n",
              "      <td>6</td>\n",
              "      <td>Pave</td>\n",
              "      <td>IReg</td>\n",
              "      <td>AllPub</td>\n",
              "      <td>5</td>\n",
              "      <td>1993</td>\n",
              "      <td>1362</td>\n",
              "      <td>1</td>\n",
              "      <td>1</td>\n",
              "      <td>5</td>\n",
              "      <td>2</td>\n",
              "      <td>medium</td>\n",
              "    </tr>\n",
              "    <tr>\n",
              "      <th>6</th>\n",
              "      <td>7</td>\n",
              "      <td>Pave</td>\n",
              "      <td>Reg</td>\n",
              "      <td>AllPub</td>\n",
              "      <td>8</td>\n",
              "      <td>2004</td>\n",
              "      <td>1694</td>\n",
              "      <td>2</td>\n",
              "      <td>1</td>\n",
              "      <td>7</td>\n",
              "      <td>2</td>\n",
              "      <td>high</td>\n",
              "    </tr>\n",
              "  </tbody>\n",
              "</table>\n",
              "</div>"
            ],
            "text/plain": [
              "   Id Street Shape Utilities  ...  Kitchen  Rooms  Parking Space  PriceCategory\n",
              "0   1   Pave   Reg    AllPub  ...        1      8              2           high\n",
              "1   2   Pave   Reg    AllPub  ...        1      6              2         medium\n",
              "2   3   Pave  IReg    AllPub  ...        1      6              2           high\n",
              "3   4   Pave  IReg    AllPub  ...        1      7              3         medium\n",
              "4   5   Pave  IReg    AllPub  ...        1      9              3           high\n",
              "5   6   Pave  IReg    AllPub  ...        1      5              2         medium\n",
              "6   7   Pave   Reg    AllPub  ...        1      7              2           high\n",
              "\n",
              "[7 rows x 12 columns]"
            ]
          },
          "metadata": {
            "tags": []
          },
          "execution_count": 14
        }
      ]
    },
    {
      "cell_type": "markdown",
      "metadata": {
        "id": "bXx_I9vc7kAf"
      },
      "source": [
        "* We can use head function to get the first look of our dataset\n",
        "* Target variable is Price category here"
      ]
    },
    {
      "cell_type": "code",
      "metadata": {
        "id": "QdvjFiJ_7kAf",
        "colab": {
          "base_uri": "https://localhost:8080/"
        },
        "outputId": "c0382185-a40b-4dfd-edb5-ef14e9282622"
      },
      "source": [
        "data.columns"
      ],
      "execution_count": 15,
      "outputs": [
        {
          "output_type": "execute_result",
          "data": {
            "text/plain": [
              "Index(['Id', 'Street', 'Shape', 'Utilities', 'OverallQual', 'YearBuilt',\n",
              "       'LivArea', 'Bath', 'Kitchen', 'Rooms', 'Parking Space',\n",
              "       'PriceCategory'],\n",
              "      dtype='object')"
            ]
          },
          "metadata": {
            "tags": []
          },
          "execution_count": 15
        }
      ]
    },
    {
      "cell_type": "markdown",
      "metadata": {
        "id": "jGT3EBjk7kAi"
      },
      "source": [
        "* These are our 12 columns where we need to identify the Price category for each house by given other 11 features"
      ]
    },
    {
      "cell_type": "code",
      "metadata": {
        "scrolled": true,
        "id": "gy5DW5h47kAi",
        "colab": {
          "base_uri": "https://localhost:8080/"
        },
        "outputId": "8ad11ea8-f372-4cad-9697-272d7ba04b08"
      },
      "source": [
        "data.dtypes"
      ],
      "execution_count": 16,
      "outputs": [
        {
          "output_type": "execute_result",
          "data": {
            "text/plain": [
              "Id                int64\n",
              "Street           object\n",
              "Shape            object\n",
              "Utilities        object\n",
              "OverallQual       int64\n",
              "YearBuilt         int64\n",
              "LivArea           int64\n",
              "Bath              int64\n",
              "Kitchen           int64\n",
              "Rooms             int64\n",
              "Parking Space     int64\n",
              "PriceCategory    object\n",
              "dtype: object"
            ]
          },
          "metadata": {
            "tags": []
          },
          "execution_count": 16
        }
      ]
    },
    {
      "cell_type": "markdown",
      "metadata": {
        "id": "eecS01UP7kAo"
      },
      "source": [
        "* Street, Shape, Utilities and PriceCategory are of object type\n",
        "* Rest of the Features are of integer type"
      ]
    },
    {
      "cell_type": "code",
      "metadata": {
        "id": "ps1DQ7nJcgSv"
      },
      "source": [
        "columns=data.columns"
      ],
      "execution_count": 17,
      "outputs": []
    },
    {
      "cell_type": "code",
      "metadata": {
        "id": "N6WOWHVvcmHz",
        "colab": {
          "base_uri": "https://localhost:8080/"
        },
        "outputId": "b3adc30b-61c8-42d3-ceac-211756c29e4b"
      },
      "source": [
        "data['Street'].nunique()"
      ],
      "execution_count": 18,
      "outputs": [
        {
          "output_type": "execute_result",
          "data": {
            "text/plain": [
              "2"
            ]
          },
          "metadata": {
            "tags": []
          },
          "execution_count": 18
        }
      ]
    },
    {
      "cell_type": "code",
      "metadata": {
        "id": "kxk4OyyC7kAp",
        "colab": {
          "base_uri": "https://localhost:8080/"
        },
        "outputId": "45a068d3-bcfa-4323-e834-c6cafc3d6a5f"
      },
      "source": [
        "columns = data.columns\n",
        "for col in columns:\n",
        "    print(col,  data[col].nunique())\n"
      ],
      "execution_count": 19,
      "outputs": [
        {
          "output_type": "stream",
          "text": [
            "Id 1460\n",
            "Street 2\n",
            "Shape 2\n",
            "Utilities 2\n",
            "OverallQual 10\n",
            "YearBuilt 112\n",
            "LivArea 861\n",
            "Bath 4\n",
            "Kitchen 4\n",
            "Rooms 12\n",
            "Parking Space 5\n",
            "PriceCategory 3\n"
          ],
          "name": "stdout"
        }
      ]
    },
    {
      "cell_type": "markdown",
      "metadata": {
        "id": "ligMhdzN7kAs"
      },
      "source": [
        "* We can see that LivArea (living area square feet) and YearBuit are continuous variables\n",
        "* Rest of the features are categorical variables"
      ]
    },
    {
      "cell_type": "markdown",
      "metadata": {
        "id": "2HtIMOjF7kAt"
      },
      "source": [
        "1. Read file \n",
        "2. Understand file\n",
        "3. Understand variables individually\n",
        "4. Relationship with target\n",
        "5. Build and Evaluate Model"
      ]
    },
    {
      "cell_type": "markdown",
      "metadata": {
        "id": "7n2-gUWN7kAt"
      },
      "source": [
        "# 3.Univariate Analysis"
      ]
    },
    {
      "cell_type": "code",
      "metadata": {
        "scrolled": true,
        "id": "kIHQno2_7kAt",
        "colab": {
          "base_uri": "https://localhost:8080/",
          "height": 343
        },
        "outputId": "f62baad9-42d5-49b7-ca72-5342f032e845"
      },
      "source": [
        "data.head(10)"
      ],
      "execution_count": 20,
      "outputs": [
        {
          "output_type": "execute_result",
          "data": {
            "text/html": [
              "<div>\n",
              "<style scoped>\n",
              "    .dataframe tbody tr th:only-of-type {\n",
              "        vertical-align: middle;\n",
              "    }\n",
              "\n",
              "    .dataframe tbody tr th {\n",
              "        vertical-align: top;\n",
              "    }\n",
              "\n",
              "    .dataframe thead th {\n",
              "        text-align: right;\n",
              "    }\n",
              "</style>\n",
              "<table border=\"1\" class=\"dataframe\">\n",
              "  <thead>\n",
              "    <tr style=\"text-align: right;\">\n",
              "      <th></th>\n",
              "      <th>Id</th>\n",
              "      <th>Street</th>\n",
              "      <th>Shape</th>\n",
              "      <th>Utilities</th>\n",
              "      <th>OverallQual</th>\n",
              "      <th>YearBuilt</th>\n",
              "      <th>LivArea</th>\n",
              "      <th>Bath</th>\n",
              "      <th>Kitchen</th>\n",
              "      <th>Rooms</th>\n",
              "      <th>Parking Space</th>\n",
              "      <th>PriceCategory</th>\n",
              "    </tr>\n",
              "  </thead>\n",
              "  <tbody>\n",
              "    <tr>\n",
              "      <th>0</th>\n",
              "      <td>1</td>\n",
              "      <td>Pave</td>\n",
              "      <td>Reg</td>\n",
              "      <td>AllPub</td>\n",
              "      <td>7</td>\n",
              "      <td>2003</td>\n",
              "      <td>1710</td>\n",
              "      <td>2</td>\n",
              "      <td>1</td>\n",
              "      <td>8</td>\n",
              "      <td>2</td>\n",
              "      <td>high</td>\n",
              "    </tr>\n",
              "    <tr>\n",
              "      <th>1</th>\n",
              "      <td>2</td>\n",
              "      <td>Pave</td>\n",
              "      <td>Reg</td>\n",
              "      <td>AllPub</td>\n",
              "      <td>6</td>\n",
              "      <td>1976</td>\n",
              "      <td>1262</td>\n",
              "      <td>2</td>\n",
              "      <td>1</td>\n",
              "      <td>6</td>\n",
              "      <td>2</td>\n",
              "      <td>medium</td>\n",
              "    </tr>\n",
              "    <tr>\n",
              "      <th>2</th>\n",
              "      <td>3</td>\n",
              "      <td>Pave</td>\n",
              "      <td>IReg</td>\n",
              "      <td>AllPub</td>\n",
              "      <td>7</td>\n",
              "      <td>2001</td>\n",
              "      <td>1786</td>\n",
              "      <td>2</td>\n",
              "      <td>1</td>\n",
              "      <td>6</td>\n",
              "      <td>2</td>\n",
              "      <td>high</td>\n",
              "    </tr>\n",
              "    <tr>\n",
              "      <th>3</th>\n",
              "      <td>4</td>\n",
              "      <td>Pave</td>\n",
              "      <td>IReg</td>\n",
              "      <td>AllPub</td>\n",
              "      <td>7</td>\n",
              "      <td>1915</td>\n",
              "      <td>1717</td>\n",
              "      <td>1</td>\n",
              "      <td>1</td>\n",
              "      <td>7</td>\n",
              "      <td>3</td>\n",
              "      <td>medium</td>\n",
              "    </tr>\n",
              "    <tr>\n",
              "      <th>4</th>\n",
              "      <td>5</td>\n",
              "      <td>Pave</td>\n",
              "      <td>IReg</td>\n",
              "      <td>AllPub</td>\n",
              "      <td>8</td>\n",
              "      <td>2000</td>\n",
              "      <td>2198</td>\n",
              "      <td>2</td>\n",
              "      <td>1</td>\n",
              "      <td>9</td>\n",
              "      <td>3</td>\n",
              "      <td>high</td>\n",
              "    </tr>\n",
              "    <tr>\n",
              "      <th>5</th>\n",
              "      <td>6</td>\n",
              "      <td>Pave</td>\n",
              "      <td>IReg</td>\n",
              "      <td>AllPub</td>\n",
              "      <td>5</td>\n",
              "      <td>1993</td>\n",
              "      <td>1362</td>\n",
              "      <td>1</td>\n",
              "      <td>1</td>\n",
              "      <td>5</td>\n",
              "      <td>2</td>\n",
              "      <td>medium</td>\n",
              "    </tr>\n",
              "    <tr>\n",
              "      <th>6</th>\n",
              "      <td>7</td>\n",
              "      <td>Pave</td>\n",
              "      <td>Reg</td>\n",
              "      <td>AllPub</td>\n",
              "      <td>8</td>\n",
              "      <td>2004</td>\n",
              "      <td>1694</td>\n",
              "      <td>2</td>\n",
              "      <td>1</td>\n",
              "      <td>7</td>\n",
              "      <td>2</td>\n",
              "      <td>high</td>\n",
              "    </tr>\n",
              "    <tr>\n",
              "      <th>7</th>\n",
              "      <td>8</td>\n",
              "      <td>Pave</td>\n",
              "      <td>IReg</td>\n",
              "      <td>AllPub</td>\n",
              "      <td>7</td>\n",
              "      <td>1973</td>\n",
              "      <td>2090</td>\n",
              "      <td>2</td>\n",
              "      <td>1</td>\n",
              "      <td>7</td>\n",
              "      <td>2</td>\n",
              "      <td>high</td>\n",
              "    </tr>\n",
              "    <tr>\n",
              "      <th>8</th>\n",
              "      <td>9</td>\n",
              "      <td>Pave</td>\n",
              "      <td>Reg</td>\n",
              "      <td>AllPub</td>\n",
              "      <td>7</td>\n",
              "      <td>1931</td>\n",
              "      <td>1774</td>\n",
              "      <td>2</td>\n",
              "      <td>2</td>\n",
              "      <td>8</td>\n",
              "      <td>2</td>\n",
              "      <td>low</td>\n",
              "    </tr>\n",
              "    <tr>\n",
              "      <th>9</th>\n",
              "      <td>10</td>\n",
              "      <td>Pave</td>\n",
              "      <td>Reg</td>\n",
              "      <td>AllPub</td>\n",
              "      <td>5</td>\n",
              "      <td>1939</td>\n",
              "      <td>1077</td>\n",
              "      <td>1</td>\n",
              "      <td>2</td>\n",
              "      <td>5</td>\n",
              "      <td>1</td>\n",
              "      <td>low</td>\n",
              "    </tr>\n",
              "  </tbody>\n",
              "</table>\n",
              "</div>"
            ],
            "text/plain": [
              "   Id Street Shape Utilities  ...  Kitchen  Rooms  Parking Space  PriceCategory\n",
              "0   1   Pave   Reg    AllPub  ...        1      8              2           high\n",
              "1   2   Pave   Reg    AllPub  ...        1      6              2         medium\n",
              "2   3   Pave  IReg    AllPub  ...        1      6              2           high\n",
              "3   4   Pave  IReg    AllPub  ...        1      7              3         medium\n",
              "4   5   Pave  IReg    AllPub  ...        1      9              3           high\n",
              "5   6   Pave  IReg    AllPub  ...        1      5              2         medium\n",
              "6   7   Pave   Reg    AllPub  ...        1      7              2           high\n",
              "7   8   Pave  IReg    AllPub  ...        1      7              2           high\n",
              "8   9   Pave   Reg    AllPub  ...        2      8              2            low\n",
              "9  10   Pave   Reg    AllPub  ...        2      5              1            low\n",
              "\n",
              "[10 rows x 12 columns]"
            ]
          },
          "metadata": {
            "tags": []
          },
          "execution_count": 20
        }
      ]
    },
    {
      "cell_type": "markdown",
      "metadata": {
        "id": "A1YvI9uU7kAw"
      },
      "source": [
        "## 3.1 Univariate Categorical"
      ]
    },
    {
      "cell_type": "markdown",
      "metadata": {
        "id": "2wPKiAQy7kAx"
      },
      "source": [
        "### 3.1.1 Target variable : Price Category"
      ]
    },
    {
      "cell_type": "code",
      "metadata": {
        "scrolled": true,
        "id": "zgZvSAwZ7kAx",
        "colab": {
          "base_uri": "https://localhost:8080/"
        },
        "outputId": "456c1b91-0d46-4694-bd00-fa236194f9a5"
      },
      "source": [
        "data['PriceCategory'].value_counts()"
      ],
      "execution_count": 21,
      "outputs": [
        {
          "output_type": "execute_result",
          "data": {
            "text/plain": [
              "medium    660\n",
              "high      435\n",
              "low       365\n",
              "Name: PriceCategory, dtype: int64"
            ]
          },
          "metadata": {
            "tags": []
          },
          "execution_count": 21
        }
      ]
    },
    {
      "cell_type": "code",
      "metadata": {
        "id": "xHaj5DYB7kA2",
        "colab": {
          "base_uri": "https://localhost:8080/",
          "height": 313
        },
        "outputId": "43697bb2-5754-4563-8ec1-73582cb534af"
      },
      "source": [
        "data['PriceCategory'].value_counts().sort_values().plot(kind = 'bar') "
      ],
      "execution_count": 22,
      "outputs": [
        {
          "output_type": "execute_result",
          "data": {
            "text/plain": [
              "<matplotlib.axes._subplots.AxesSubplot at 0x7f86984ddd30>"
            ]
          },
          "metadata": {
            "tags": []
          },
          "execution_count": 22
        },
        {
          "output_type": "display_data",
          "data": {
            "image/png": "[encoded data removed]",
            "text/plain": [
              "<Figure size 432x288 with 1 Axes>"
            ]
          },
          "metadata": {
            "tags": [],
            "needs_background": "light"
          }
        }
      ]
    },
    {
      "cell_type": "markdown",
      "metadata": {
        "id": "3twGjJ4g7kA5"
      },
      "source": [
        "* Highest number of houses (660) belong to the Medium Price category.\n",
        "* There are 435 houses which lie high Price category\n",
        "* There are 365 houses which lie low Price category"
      ]
    },
    {
      "cell_type": "markdown",
      "metadata": {
        "id": "lsXMNBFy7kA5"
      },
      "source": [
        "### 3.1.2 Street"
      ]
    },
    {
      "cell_type": "code",
      "metadata": {
        "id": "BoT-8kfy7kA6",
        "colab": {
          "base_uri": "https://localhost:8080/"
        },
        "outputId": "b532b080-bc05-4079-b7b6-c22e8ab11868"
      },
      "source": [
        "data['Street'].value_counts()"
      ],
      "execution_count": 23,
      "outputs": [
        {
          "output_type": "execute_result",
          "data": {
            "text/plain": [
              "Pave    1454\n",
              "Grvl       6\n",
              "Name: Street, dtype: int64"
            ]
          },
          "metadata": {
            "tags": []
          },
          "execution_count": 23
        }
      ]
    },
    {
      "cell_type": "code",
      "metadata": {
        "scrolled": true,
        "id": "-smT0Cxa7kA9",
        "colab": {
          "base_uri": "https://localhost:8080/",
          "height": 296
        },
        "outputId": "be8cfb50-b28c-4c6a-bf65-6e905ac0163c"
      },
      "source": [
        "data['Street'].value_counts().sort_values().plot(kind = 'bar')"
      ],
      "execution_count": 30,
      "outputs": [
        {
          "output_type": "execute_result",
          "data": {
            "text/plain": [
              "<matplotlib.axes._subplots.AxesSubplot at 0x7f8725491358>"
            ]
          },
          "metadata": {
            "tags": []
          },
          "execution_count": 30
        },
        {
          "output_type": "display_data",
          "data": {
            "image/png": "[encoded data removed]",
            "text/plain": [
              "<Figure size 432x288 with 1 Axes>"
            ]
          },
          "metadata": {
            "tags": [],
            "needs_background": "light"
          }
        }
      ]
    },
    {
      "cell_type": "markdown",
      "metadata": {
        "id": "haIoRGA_7kA_"
      },
      "source": [
        "* Only 6 observations in our dataset have Stree Grvl\n",
        "* Other 1454 observations belong to Street Pave "
      ]
    },
    {
      "cell_type": "markdown",
      "metadata": {
        "id": "NAfQyW5y7kBA"
      },
      "source": [
        "### __3.1.3 Shape : Q : Identify frequency of Shape variable and plot a bar plot for this, derive inference from this?__"
      ]
    },
    {
      "cell_type": "code",
      "metadata": {
        "id": "MMStYCYW7kBF",
        "colab": {
          "base_uri": "https://localhost:8080/",
          "height": 294
        },
        "outputId": "be84b7dd-43a5-4a84-8bf7-77abf8146454"
      },
      "source": [
        "data['Shape'].value_counts().sort_values().plot(kind='bar')\n"
      ],
      "execution_count": 24,
      "outputs": [
        {
          "output_type": "execute_result",
          "data": {
            "text/plain": [
              "<matplotlib.axes._subplots.AxesSubplot at 0x7f869821e438>"
            ]
          },
          "metadata": {
            "tags": []
          },
          "execution_count": 24
        },
        {
          "output_type": "display_data",
          "data": {
            "image/png": "[encoded data removed]",
            "text/plain": [
              "<Figure size 432x288 with 1 Axes>"
            ]
          },
          "metadata": {
            "tags": [],
            "needs_background": "light"
          }
        }
      ]
    },
    {
      "cell_type": "code",
      "metadata": {
        "colab": {
          "base_uri": "https://localhost:8080/"
        },
        "id": "DfqsSp5bOLlL",
        "outputId": "1da4bbc2-4c59-4534-e0f8-574bbc3aeb16"
      },
      "source": [
        "data['Shape']"
      ],
      "execution_count": 25,
      "outputs": [
        {
          "output_type": "execute_result",
          "data": {
            "text/plain": [
              "0        Reg\n",
              "1        Reg\n",
              "2       IReg\n",
              "3       IReg\n",
              "4       IReg\n",
              "        ... \n",
              "1455     Reg\n",
              "1456     Reg\n",
              "1457     Reg\n",
              "1458     Reg\n",
              "1459     Reg\n",
              "Name: Shape, Length: 1460, dtype: object"
            ]
          },
          "metadata": {
            "tags": []
          },
          "execution_count": 25
        }
      ]
    },
    {
      "cell_type": "markdown",
      "metadata": {
        "id": "9wOrBnPhOYSV"
      },
      "source": [
        "More than half houses are Registered compared to IReg"
      ]
    },
    {
      "cell_type": "markdown",
      "metadata": {
        "id": "B0aIlK3e7kBK"
      },
      "source": [
        "### __3.1.4 Utilities : Q : Identify frequency of Utilities variable and plot a bar plot for this, derive inference from this?__"
      ]
    },
    {
      "cell_type": "code",
      "metadata": {
        "id": "S0bS1tfb7kBN",
        "colab": {
          "base_uri": "https://localhost:8080/",
          "height": 314
        },
        "outputId": "6f8a48e4-6c7d-473a-f3d6-53a9f27b66f4"
      },
      "source": [
        "data['Utilities'].value_counts().sort_values().plot(kind='bar')"
      ],
      "execution_count": 26,
      "outputs": [
        {
          "output_type": "execute_result",
          "data": {
            "text/plain": [
              "<matplotlib.axes._subplots.AxesSubplot at 0x7f869831a1d0>"
            ]
          },
          "metadata": {
            "tags": []
          },
          "execution_count": 26
        },
        {
          "output_type": "display_data",
          "data": {
            "image/png": "[encoded data removed]",
            "text/plain": [
              "<Figure size 432x288 with 1 Axes>"
            ]
          },
          "metadata": {
            "tags": [],
            "needs_background": "light"
          }
        }
      ]
    },
    {
      "cell_type": "code",
      "metadata": {
        "colab": {
          "base_uri": "https://localhost:8080/"
        },
        "id": "tJU7HyfEQXSc",
        "outputId": "8590acb2-ca82-4691-d1d7-0c8f386e41a8"
      },
      "source": [
        "data['Utilities']"
      ],
      "execution_count": 27,
      "outputs": [
        {
          "output_type": "execute_result",
          "data": {
            "text/plain": [
              "0       AllPub\n",
              "1       AllPub\n",
              "2       AllPub\n",
              "3       AllPub\n",
              "4       AllPub\n",
              "         ...  \n",
              "1455    AllPub\n",
              "1456    AllPub\n",
              "1457    AllPub\n",
              "1458    AllPub\n",
              "1459    AllPub\n",
              "Name: Utilities, Length: 1460, dtype: object"
            ]
          },
          "metadata": {
            "tags": []
          },
          "execution_count": 27
        }
      ]
    },
    {
      "cell_type": "markdown",
      "metadata": {
        "id": "kX-1Taop7kBP"
      },
      "source": [
        "### 3.1.5 OverallQual"
      ]
    },
    {
      "cell_type": "code",
      "metadata": {
        "id": "77Gk_ny67kBQ",
        "colab": {
          "base_uri": "https://localhost:8080/"
        },
        "outputId": "bea3dc05-78d0-43dd-81bf-4689ea8e28d8"
      },
      "source": [
        "\n",
        "data['OverallQual'].value_counts()"
      ],
      "execution_count": 28,
      "outputs": [
        {
          "output_type": "execute_result",
          "data": {
            "text/plain": [
              "5     397\n",
              "6     374\n",
              "7     319\n",
              "8     168\n",
              "4     116\n",
              "9      43\n",
              "3      20\n",
              "10     18\n",
              "2       3\n",
              "1       2\n",
              "Name: OverallQual, dtype: int64"
            ]
          },
          "metadata": {
            "tags": []
          },
          "execution_count": 28
        }
      ]
    },
    {
      "cell_type": "code",
      "metadata": {
        "id": "Dq-RSbfw7kBV",
        "colab": {
          "base_uri": "https://localhost:8080/",
          "height": 285
        },
        "outputId": "559819bc-fa4a-4160-b085-7766f339a313"
      },
      "source": [
        "data['OverallQual'].value_counts().sort_values().plot(kind = 'bar')"
      ],
      "execution_count": 38,
      "outputs": [
        {
          "output_type": "execute_result",
          "data": {
            "text/plain": [
              "<matplotlib.axes._subplots.AxesSubplot at 0x7f872574ae10>"
            ]
          },
          "metadata": {
            "tags": []
          },
          "execution_count": 38
        },
        {
          "output_type": "display_data",
          "data": {
            "image/png": "[encoded data removed]",
            "text/plain": [
              "<Figure size 432x288 with 1 Axes>"
            ]
          },
          "metadata": {
            "tags": [],
            "needs_background": "light"
          }
        }
      ]
    },
    {
      "cell_type": "markdown",
      "metadata": {
        "id": "z95dNro-7kBY"
      },
      "source": [
        "* Most of the observations lie in Medium type (4-8) of OverallQual."
      ]
    },
    {
      "cell_type": "markdown",
      "metadata": {
        "id": "opwpLB7f7kBZ"
      },
      "source": [
        "### 3.1.6 : Bath"
      ]
    },
    {
      "cell_type": "code",
      "metadata": {
        "id": "7ZMHm23P7kBZ",
        "colab": {
          "base_uri": "https://localhost:8080/"
        },
        "outputId": "79d83720-2197-418a-d042-cf811470900e"
      },
      "source": [
        "data['Bath'].value_counts()"
      ],
      "execution_count": 29,
      "outputs": [
        {
          "output_type": "execute_result",
          "data": {
            "text/plain": [
              "2    775\n",
              "1    649\n",
              "3     33\n",
              "0      3\n",
              "Name: Bath, dtype: int64"
            ]
          },
          "metadata": {
            "tags": []
          },
          "execution_count": 29
        }
      ]
    },
    {
      "cell_type": "code",
      "metadata": {
        "id": "rI9ThzeV7kBc",
        "colab": {
          "base_uri": "https://localhost:8080/",
          "height": 279
        },
        "outputId": "ab6348b9-f175-4fb6-ae2c-014257ab06a0"
      },
      "source": [
        "data['Bath'].value_counts().sort_values().plot(kind = 'bar')"
      ],
      "execution_count": 30,
      "outputs": [
        {
          "output_type": "execute_result",
          "data": {
            "text/plain": [
              "<matplotlib.axes._subplots.AxesSubplot at 0x7f86983e5d30>"
            ]
          },
          "metadata": {
            "tags": []
          },
          "execution_count": 30
        },
        {
          "output_type": "display_data",
          "data": {
            "image/png": "[encoded data removed]",
            "text/plain": [
              "<Figure size 432x288 with 1 Axes>"
            ]
          },
          "metadata": {
            "tags": [],
            "needs_background": "light"
          }
        }
      ]
    },
    {
      "cell_type": "markdown",
      "metadata": {
        "id": "c7Y98Ooq7kBf"
      },
      "source": [
        "* Most of the houses have either 1 or 2 bathrooms"
      ]
    },
    {
      "cell_type": "markdown",
      "metadata": {
        "id": "NKzbgGE17kBf"
      },
      "source": [
        "### 3.1.7 : Kitchen"
      ]
    },
    {
      "cell_type": "code",
      "metadata": {
        "id": "8rhShQXz7kBg",
        "colab": {
          "base_uri": "https://localhost:8080/"
        },
        "outputId": "54382b69-c4f6-4d67-96d1-721782550132"
      },
      "source": [
        "data['Kitchen'].value_counts()"
      ],
      "execution_count": 31,
      "outputs": [
        {
          "output_type": "execute_result",
          "data": {
            "text/plain": [
              "1    1392\n",
              "2      65\n",
              "3       2\n",
              "0       1\n",
              "Name: Kitchen, dtype: int64"
            ]
          },
          "metadata": {
            "tags": []
          },
          "execution_count": 31
        }
      ]
    },
    {
      "cell_type": "code",
      "metadata": {
        "id": "miGWDu0Q7kBj",
        "colab": {
          "base_uri": "https://localhost:8080/",
          "height": 279
        },
        "outputId": "6e8087de-d369-4a5b-9942-8ef18d710dd9"
      },
      "source": [
        "data['Kitchen'].value_counts().sort_values().plot(kind = 'bar')"
      ],
      "execution_count": 32,
      "outputs": [
        {
          "output_type": "execute_result",
          "data": {
            "text/plain": [
              "<matplotlib.axes._subplots.AxesSubplot at 0x7f8698328c18>"
            ]
          },
          "metadata": {
            "tags": []
          },
          "execution_count": 32
        },
        {
          "output_type": "display_data",
          "data": {
            "image/png": "[encoded data removed]",
            "text/plain": [
              "<Figure size 432x288 with 1 Axes>"
            ]
          },
          "metadata": {
            "tags": [],
            "needs_background": "light"
          }
        }
      ]
    },
    {
      "cell_type": "markdown",
      "metadata": {
        "id": "LQDdSOSH7kBm"
      },
      "source": [
        "* Most of the houses have only 1 kitchen"
      ]
    },
    {
      "cell_type": "markdown",
      "metadata": {
        "id": "QrsiGY3f7kBn"
      },
      "source": [
        "### 3.1.8 : Rooms"
      ]
    },
    {
      "cell_type": "code",
      "metadata": {
        "id": "Sn2dqQnc7kBn",
        "colab": {
          "base_uri": "https://localhost:8080/"
        },
        "outputId": "4a65bcba-4932-4e76-9b85-f982101545c3"
      },
      "source": [
        "data['Rooms'].value_counts()"
      ],
      "execution_count": 43,
      "outputs": [
        {
          "output_type": "execute_result",
          "data": {
            "text/plain": [
              "6     402\n",
              "7     329\n",
              "5     275\n",
              "8     187\n",
              "4      97\n",
              "9      75\n",
              "10     47\n",
              "11     18\n",
              "3      17\n",
              "12     11\n",
              "14      1\n",
              "2       1\n",
              "Name: Rooms, dtype: int64"
            ]
          },
          "metadata": {
            "tags": []
          },
          "execution_count": 43
        }
      ]
    },
    {
      "cell_type": "code",
      "metadata": {
        "id": "IrUwX9fn7kBq",
        "colab": {
          "base_uri": "https://localhost:8080/",
          "height": 285
        },
        "outputId": "cf490a88-89a5-4974-ed43-8a1bcb6e37eb"
      },
      "source": [
        "data['Rooms'].value_counts().sort_values().plot(kind = 'bar')"
      ],
      "execution_count": 33,
      "outputs": [
        {
          "output_type": "execute_result",
          "data": {
            "text/plain": [
              "<matplotlib.axes._subplots.AxesSubplot at 0x7f86983da278>"
            ]
          },
          "metadata": {
            "tags": []
          },
          "execution_count": 33
        },
        {
          "output_type": "display_data",
          "data": {
            "image/png": "[encoded data removed]",
            "text/plain": [
              "<Figure size 432x288 with 1 Axes>"
            ]
          },
          "metadata": {
            "tags": [],
            "needs_background": "light"
          }
        }
      ]
    },
    {
      "cell_type": "markdown",
      "metadata": {
        "id": "WWbUZJwJ7kBt"
      },
      "source": [
        "* Most number of houses have 6 rooms.\n",
        "* There are very few houses which have very less (2,3) or very high (11,12,14) number of rooms."
      ]
    },
    {
      "cell_type": "markdown",
      "metadata": {
        "id": "ZKTv8pEJ7kBt"
      },
      "source": [
        "### 3.1.9 : Parking Space"
      ]
    },
    {
      "cell_type": "code",
      "metadata": {
        "id": "dwkiv_sM7kBu",
        "colab": {
          "base_uri": "https://localhost:8080/"
        },
        "outputId": "483b5727-d838-452b-e6aa-533e1c57a440"
      },
      "source": [
        "data['Parking Space'].value_counts()"
      ],
      "execution_count": 34,
      "outputs": [
        {
          "output_type": "execute_result",
          "data": {
            "text/plain": [
              "2    824\n",
              "1    369\n",
              "3    181\n",
              "0     81\n",
              "4      5\n",
              "Name: Parking Space, dtype: int64"
            ]
          },
          "metadata": {
            "tags": []
          },
          "execution_count": 34
        }
      ]
    },
    {
      "cell_type": "code",
      "metadata": {
        "id": "dM7tjUWT7kBw",
        "colab": {
          "base_uri": "https://localhost:8080/",
          "height": 279
        },
        "outputId": "3c772658-0b65-4499-c830-a1192f231c2d"
      },
      "source": [
        "data['Parking Space'].value_counts().sort_values().plot(kind = 'bar')"
      ],
      "execution_count": 35,
      "outputs": [
        {
          "output_type": "execute_result",
          "data": {
            "text/plain": [
              "<matplotlib.axes._subplots.AxesSubplot at 0x7f869822e400>"
            ]
          },
          "metadata": {
            "tags": []
          },
          "execution_count": 35
        },
        {
          "output_type": "display_data",
          "data": {
            "image/png": "[encoded data removed]",
            "text/plain": [
              "<Figure size 432x288 with 1 Axes>"
            ]
          },
          "metadata": {
            "tags": [],
            "needs_background": "light"
          }
        }
      ]
    },
    {
      "cell_type": "markdown",
      "metadata": {
        "id": "VUPZeAgA7kB1"
      },
      "source": [
        "* Most houses have Parking Space of category 2 \n",
        "* There are only 5 houses having Parking Space of category 4"
      ]
    },
    {
      "cell_type": "markdown",
      "metadata": {
        "id": "o-uIShED7kB2"
      },
      "source": [
        "## 3.2: Univariate Continuous"
      ]
    },
    {
      "cell_type": "code",
      "metadata": {
        "id": "pdlc42ES7kB3",
        "colab": {
          "base_uri": "https://localhost:8080/"
        },
        "outputId": "7669dda0-a50f-4851-dec8-d9ecbefee1bd"
      },
      "source": [
        "data['LivArea'].min(), data['LivArea'].max(), data['LivArea'].mean(), data['LivArea'].median()"
      ],
      "execution_count": 36,
      "outputs": [
        {
          "output_type": "execute_result",
          "data": {
            "text/plain": [
              "(334, 5642, 1515.463698630137, 1464.0)"
            ]
          },
          "metadata": {
            "tags": []
          },
          "execution_count": 36
        }
      ]
    },
    {
      "cell_type": "markdown",
      "metadata": {
        "id": "oGcr9pE07kB6"
      },
      "source": [
        "* __Mean__ : The mean (average) of a data set is found by adding all numbers in the data set and then dividing by the number of values in the set. \n",
        "* __Median__ : The middle value when a data set is ordered from least to greatest."
      ]
    },
    {
      "cell_type": "code",
      "metadata": {
        "id": "gukuyRbKh8E0"
      },
      "source": [
        "import matplotlib.pyplot as plt"
      ],
      "execution_count": 37,
      "outputs": []
    },
    {
      "cell_type": "markdown",
      "metadata": {
        "id": "BUJGWv9iiWDH"
      },
      "source": [
        "* Matplotlib is a plotting library for the Python programming language "
      ]
    },
    {
      "cell_type": "code",
      "metadata": {
        "id": "eiwbB9IW7kB7",
        "colab": {
          "base_uri": "https://localhost:8080/",
          "height": 445
        },
        "outputId": "92d34081-ace3-4f43-fad3-af3f09a207cf"
      },
      "source": [
        "plt.figure(figsize=(12,7))\n",
        "data['LivArea'].hist(grid=False)\n",
        "plt.axvline(data['LivArea'].mean(), color='red', linestyle='dashed', linewidth=1)\n",
        "plt.axvline(data['LivArea'].median(), color='yellow', linestyle='dashed', linewidth=1)"
      ],
      "execution_count": 38,
      "outputs": [
        {
          "output_type": "execute_result",
          "data": {
            "text/plain": [
              "<matplotlib.lines.Line2D at 0x7f8697bd6940>"
            ]
          },
          "metadata": {
            "tags": []
          },
          "execution_count": 38
        },
        {
          "output_type": "display_data",
          "data": {
            "image/png": "[encoded data removed]",
            "text/plain": [
              "<Figure size 864x504 with 1 Axes>"
            ]
          },
          "metadata": {
            "tags": [],
            "needs_background": "light"
          }
        }
      ]
    },
    {
      "cell_type": "markdown",
      "metadata": {
        "id": "t5i5brGA7kB_"
      },
      "source": [
        "* Mean Value of LivArea in the data is higher than Median Value\n",
        "* There are few houses in the dataset having very large values (More outliers in positive side)"
      ]
    },
    {
      "cell_type": "markdown",
      "metadata": {
        "id": "0d5K_p8R7kCA"
      },
      "source": [
        "1. Read file \n",
        "2. Understand file\n",
        "3. Understand variables individually\n",
        "4. Relationship with target\n",
        "5. Build and Evaluate Model"
      ]
    },
    {
      "cell_type": "markdown",
      "metadata": {
        "id": "ZZ3cKDQs7kCA"
      },
      "source": [
        "# 4. Bivariate Analysis"
      ]
    },
    {
      "cell_type": "code",
      "metadata": {
        "id": "6c8NkBch7kCB",
        "colab": {
          "base_uri": "https://localhost:8080/",
          "height": 195
        },
        "outputId": "bfd70212-34b5-4fae-9267-a3f89964a9bf"
      },
      "source": [
        "data.head()"
      ],
      "execution_count": 39,
      "outputs": [
        {
          "output_type": "execute_result",
          "data": {
            "text/html": [
              "<div>\n",
              "<style scoped>\n",
              "    .dataframe tbody tr th:only-of-type {\n",
              "        vertical-align: middle;\n",
              "    }\n",
              "\n",
              "    .dataframe tbody tr th {\n",
              "        vertical-align: top;\n",
              "    }\n",
              "\n",
              "    .dataframe thead th {\n",
              "        text-align: right;\n",
              "    }\n",
              "</style>\n",
              "<table border=\"1\" class=\"dataframe\">\n",
              "  <thead>\n",
              "    <tr style=\"text-align: right;\">\n",
              "      <th></th>\n",
              "      <th>Id</th>\n",
              "      <th>Street</th>\n",
              "      <th>Shape</th>\n",
              "      <th>Utilities</th>\n",
              "      <th>OverallQual</th>\n",
              "      <th>YearBuilt</th>\n",
              "      <th>LivArea</th>\n",
              "      <th>Bath</th>\n",
              "      <th>Kitchen</th>\n",
              "      <th>Rooms</th>\n",
              "      <th>Parking Space</th>\n",
              "      <th>PriceCategory</th>\n",
              "    </tr>\n",
              "  </thead>\n",
              "  <tbody>\n",
              "    <tr>\n",
              "      <th>0</th>\n",
              "      <td>1</td>\n",
              "      <td>Pave</td>\n",
              "      <td>Reg</td>\n",
              "      <td>AllPub</td>\n",
              "      <td>7</td>\n",
              "      <td>2003</td>\n",
              "      <td>1710</td>\n",
              "      <td>2</td>\n",
              "      <td>1</td>\n",
              "      <td>8</td>\n",
              "      <td>2</td>\n",
              "      <td>high</td>\n",
              "    </tr>\n",
              "    <tr>\n",
              "      <th>1</th>\n",
              "      <td>2</td>\n",
              "      <td>Pave</td>\n",
              "      <td>Reg</td>\n",
              "      <td>AllPub</td>\n",
              "      <td>6</td>\n",
              "      <td>1976</td>\n",
              "      <td>1262</td>\n",
              "      <td>2</td>\n",
              "      <td>1</td>\n",
              "      <td>6</td>\n",
              "      <td>2</td>\n",
              "      <td>medium</td>\n",
              "    </tr>\n",
              "    <tr>\n",
              "      <th>2</th>\n",
              "      <td>3</td>\n",
              "      <td>Pave</td>\n",
              "      <td>IReg</td>\n",
              "      <td>AllPub</td>\n",
              "      <td>7</td>\n",
              "      <td>2001</td>\n",
              "      <td>1786</td>\n",
              "      <td>2</td>\n",
              "      <td>1</td>\n",
              "      <td>6</td>\n",
              "      <td>2</td>\n",
              "      <td>high</td>\n",
              "    </tr>\n",
              "    <tr>\n",
              "      <th>3</th>\n",
              "      <td>4</td>\n",
              "      <td>Pave</td>\n",
              "      <td>IReg</td>\n",
              "      <td>AllPub</td>\n",
              "      <td>7</td>\n",
              "      <td>1915</td>\n",
              "      <td>1717</td>\n",
              "      <td>1</td>\n",
              "      <td>1</td>\n",
              "      <td>7</td>\n",
              "      <td>3</td>\n",
              "      <td>medium</td>\n",
              "    </tr>\n",
              "    <tr>\n",
              "      <th>4</th>\n",
              "      <td>5</td>\n",
              "      <td>Pave</td>\n",
              "      <td>IReg</td>\n",
              "      <td>AllPub</td>\n",
              "      <td>8</td>\n",
              "      <td>2000</td>\n",
              "      <td>2198</td>\n",
              "      <td>2</td>\n",
              "      <td>1</td>\n",
              "      <td>9</td>\n",
              "      <td>3</td>\n",
              "      <td>high</td>\n",
              "    </tr>\n",
              "  </tbody>\n",
              "</table>\n",
              "</div>"
            ],
            "text/plain": [
              "   Id Street Shape Utilities  ...  Kitchen  Rooms  Parking Space  PriceCategory\n",
              "0   1   Pave   Reg    AllPub  ...        1      8              2           high\n",
              "1   2   Pave   Reg    AllPub  ...        1      6              2         medium\n",
              "2   3   Pave  IReg    AllPub  ...        1      6              2           high\n",
              "3   4   Pave  IReg    AllPub  ...        1      7              3         medium\n",
              "4   5   Pave  IReg    AllPub  ...        1      9              3           high\n",
              "\n",
              "[5 rows x 12 columns]"
            ]
          },
          "metadata": {
            "tags": []
          },
          "execution_count": 39
        }
      ]
    },
    {
      "cell_type": "markdown",
      "metadata": {
        "id": "zUFxQULc7kCE"
      },
      "source": [
        "## 4.1 Bivariate Categorical - Categorical "
      ]
    },
    {
      "cell_type": "markdown",
      "metadata": {
        "id": "qjGVtUv57kCE"
      },
      "source": [
        "### 4.1.1 Street and Price Category"
      ]
    },
    {
      "cell_type": "code",
      "metadata": {
        "id": "0LxE8Rq27kCF",
        "colab": {
          "base_uri": "https://localhost:8080/",
          "height": 136
        },
        "outputId": "aefda6ff-ec4e-46f6-8ea3-ac225e3e30dd"
      },
      "source": [
        "freq_table = pd.crosstab(index=data[\"Street\"], \n",
        "                          columns=data[\"PriceCategory\"])\n",
        "freq_table"
      ],
      "execution_count": 40,
      "outputs": [
        {
          "output_type": "execute_result",
          "data": {
            "text/html": [
              "<div>\n",
              "<style scoped>\n",
              "    .dataframe tbody tr th:only-of-type {\n",
              "        vertical-align: middle;\n",
              "    }\n",
              "\n",
              "    .dataframe tbody tr th {\n",
              "        vertical-align: top;\n",
              "    }\n",
              "\n",
              "    .dataframe thead th {\n",
              "        text-align: right;\n",
              "    }\n",
              "</style>\n",
              "<table border=\"1\" class=\"dataframe\">\n",
              "  <thead>\n",
              "    <tr style=\"text-align: right;\">\n",
              "      <th>PriceCategory</th>\n",
              "      <th>high</th>\n",
              "      <th>low</th>\n",
              "      <th>medium</th>\n",
              "    </tr>\n",
              "    <tr>\n",
              "      <th>Street</th>\n",
              "      <th></th>\n",
              "      <th></th>\n",
              "      <th></th>\n",
              "    </tr>\n",
              "  </thead>\n",
              "  <tbody>\n",
              "    <tr>\n",
              "      <th>Grvl</th>\n",
              "      <td>1</td>\n",
              "      <td>4</td>\n",
              "      <td>1</td>\n",
              "    </tr>\n",
              "    <tr>\n",
              "      <th>Pave</th>\n",
              "      <td>434</td>\n",
              "      <td>361</td>\n",
              "      <td>659</td>\n",
              "    </tr>\n",
              "  </tbody>\n",
              "</table>\n",
              "</div>"
            ],
            "text/plain": [
              "PriceCategory  high  low  medium\n",
              "Street                          \n",
              "Grvl              1    4       1\n",
              "Pave            434  361     659"
            ]
          },
          "metadata": {
            "tags": []
          },
          "execution_count": 40
        }
      ]
    },
    {
      "cell_type": "markdown",
      "metadata": {
        "id": "O1-TPwGZ7kCI"
      },
      "source": [
        "* Street group Grvl has 1 high Price Category, 4 low price Category and 1 Medium Price Category\n",
        "* Street group Pave has 434 high Price Category, 362 low price Category and 659 Medium Price Category"
      ]
    },
    {
      "cell_type": "markdown",
      "metadata": {
        "id": "SBF_fo-g7kCI"
      },
      "source": [
        "### 4.1.2 Shape and Price Category"
      ]
    },
    {
      "cell_type": "code",
      "metadata": {
        "id": "UsurF3ux7kCI",
        "colab": {
          "base_uri": "https://localhost:8080/",
          "height": 136
        },
        "outputId": "1419e4e8-5fe4-4032-95cb-46bd0f8e82a6"
      },
      "source": [
        "freq_table = pd.crosstab(index=data[\"Shape\"], \n",
        "                          columns=data[\"PriceCategory\"])\n",
        "freq_table"
      ],
      "execution_count": 41,
      "outputs": [
        {
          "output_type": "execute_result",
          "data": {
            "text/html": [
              "<div>\n",
              "<style scoped>\n",
              "    .dataframe tbody tr th:only-of-type {\n",
              "        vertical-align: middle;\n",
              "    }\n",
              "\n",
              "    .dataframe tbody tr th {\n",
              "        vertical-align: top;\n",
              "    }\n",
              "\n",
              "    .dataframe thead th {\n",
              "        text-align: right;\n",
              "    }\n",
              "</style>\n",
              "<table border=\"1\" class=\"dataframe\">\n",
              "  <thead>\n",
              "    <tr style=\"text-align: right;\">\n",
              "      <th>PriceCategory</th>\n",
              "      <th>high</th>\n",
              "      <th>low</th>\n",
              "      <th>medium</th>\n",
              "    </tr>\n",
              "    <tr>\n",
              "      <th>Shape</th>\n",
              "      <th></th>\n",
              "      <th></th>\n",
              "      <th></th>\n",
              "    </tr>\n",
              "  </thead>\n",
              "  <tbody>\n",
              "    <tr>\n",
              "      <th>IReg</th>\n",
              "      <td>235</td>\n",
              "      <td>60</td>\n",
              "      <td>240</td>\n",
              "    </tr>\n",
              "    <tr>\n",
              "      <th>Reg</th>\n",
              "      <td>200</td>\n",
              "      <td>305</td>\n",
              "      <td>420</td>\n",
              "    </tr>\n",
              "  </tbody>\n",
              "</table>\n",
              "</div>"
            ],
            "text/plain": [
              "PriceCategory  high  low  medium\n",
              "Shape                           \n",
              "IReg            235   60     240\n",
              "Reg             200  305     420"
            ]
          },
          "metadata": {
            "tags": []
          },
          "execution_count": 41
        }
      ]
    },
    {
      "cell_type": "code",
      "metadata": {
        "id": "O9DEsuM37kCL"
      },
      "source": [
        "freq_table.plot(kind=\"bar\", \n",
        "                 figsize=(8,8));"
      ],
      "execution_count": null,
      "outputs": []
    },
    {
      "cell_type": "markdown",
      "metadata": {
        "id": "PWjBSa237kCO"
      },
      "source": [
        "* Most Houses with Regular shape lie in Medium Price Category followed by low Price Category and high Price Category\n",
        "* Most Houses with Irregular shape lie in Medium Price Category followed by high Price Category and low Price Category"
      ]
    },
    {
      "cell_type": "markdown",
      "metadata": {
        "id": "XvLbNEDZ7kCP"
      },
      "source": [
        "### 4.1.3 Q: Plot the frequency table for OverallQuality and Price Category, also plot Barplot and derive inference from it?"
      ]
    },
    {
      "cell_type": "code",
      "metadata": {
        "id": "DM9958lIFAKN",
        "colab": {
          "base_uri": "https://localhost:8080/",
          "height": 373
        },
        "outputId": "c906c837-ad26-480d-a53c-6f0d835f2bfb"
      },
      "source": [
        "freq_table1 = pd.crosstab(index=data[\"OverallQual\"], \n",
        "                          columns=data[\"PriceCategory\"])\n",
        "freq_table1"
      ],
      "execution_count": 43,
      "outputs": [
        {
          "output_type": "execute_result",
          "data": {
            "text/html": [
              "<div>\n",
              "<style scoped>\n",
              "    .dataframe tbody tr th:only-of-type {\n",
              "        vertical-align: middle;\n",
              "    }\n",
              "\n",
              "    .dataframe tbody tr th {\n",
              "        vertical-align: top;\n",
              "    }\n",
              "\n",
              "    .dataframe thead th {\n",
              "        text-align: right;\n",
              "    }\n",
              "</style>\n",
              "<table border=\"1\" class=\"dataframe\">\n",
              "  <thead>\n",
              "    <tr style=\"text-align: right;\">\n",
              "      <th>PriceCategory</th>\n",
              "      <th>high</th>\n",
              "      <th>low</th>\n",
              "      <th>medium</th>\n",
              "    </tr>\n",
              "    <tr>\n",
              "      <th>OverallQual</th>\n",
              "      <th></th>\n",
              "      <th></th>\n",
              "      <th></th>\n",
              "    </tr>\n",
              "  </thead>\n",
              "  <tbody>\n",
              "    <tr>\n",
              "      <th>1</th>\n",
              "      <td>0</td>\n",
              "      <td>2</td>\n",
              "      <td>0</td>\n",
              "    </tr>\n",
              "    <tr>\n",
              "      <th>2</th>\n",
              "      <td>0</td>\n",
              "      <td>3</td>\n",
              "      <td>0</td>\n",
              "    </tr>\n",
              "    <tr>\n",
              "      <th>3</th>\n",
              "      <td>0</td>\n",
              "      <td>19</td>\n",
              "      <td>1</td>\n",
              "    </tr>\n",
              "    <tr>\n",
              "      <th>4</th>\n",
              "      <td>1</td>\n",
              "      <td>94</td>\n",
              "      <td>21</td>\n",
              "    </tr>\n",
              "    <tr>\n",
              "      <th>5</th>\n",
              "      <td>8</td>\n",
              "      <td>173</td>\n",
              "      <td>216</td>\n",
              "    </tr>\n",
              "    <tr>\n",
              "      <th>6</th>\n",
              "      <td>51</td>\n",
              "      <td>69</td>\n",
              "      <td>254</td>\n",
              "    </tr>\n",
              "    <tr>\n",
              "      <th>7</th>\n",
              "      <td>164</td>\n",
              "      <td>4</td>\n",
              "      <td>151</td>\n",
              "    </tr>\n",
              "    <tr>\n",
              "      <th>8</th>\n",
              "      <td>152</td>\n",
              "      <td>1</td>\n",
              "      <td>15</td>\n",
              "    </tr>\n",
              "    <tr>\n",
              "      <th>9</th>\n",
              "      <td>43</td>\n",
              "      <td>0</td>\n",
              "      <td>0</td>\n",
              "    </tr>\n",
              "    <tr>\n",
              "      <th>10</th>\n",
              "      <td>16</td>\n",
              "      <td>0</td>\n",
              "      <td>2</td>\n",
              "    </tr>\n",
              "  </tbody>\n",
              "</table>\n",
              "</div>"
            ],
            "text/plain": [
              "PriceCategory  high  low  medium\n",
              "OverallQual                     \n",
              "1                 0    2       0\n",
              "2                 0    3       0\n",
              "3                 0   19       1\n",
              "4                 1   94      21\n",
              "5                 8  173     216\n",
              "6                51   69     254\n",
              "7               164    4     151\n",
              "8               152    1      15\n",
              "9                43    0       0\n",
              "10               16    0       2"
            ]
          },
          "metadata": {
            "tags": []
          },
          "execution_count": 43
        }
      ]
    },
    {
      "cell_type": "code",
      "metadata": {
        "id": "jfjqNDIe7kCP",
        "colab": {
          "base_uri": "https://localhost:8080/",
          "height": 499
        },
        "outputId": "65c4b161-f978-49ce-8993-05e6dc502b9c"
      },
      "source": [
        "freq_table1.plot(kind=\"bar\", \n",
        "                 figsize=(8,8));"
      ],
      "execution_count": 44,
      "outputs": [
        {
          "output_type": "display_data",
          "data": {
            "image/png": "[encoded data removed]",
            "text/plain": [
              "<Figure size 576x576 with 1 Axes>"
            ]
          },
          "metadata": {
            "tags": [],
            "needs_background": "light"
          }
        }
      ]
    },
    {
      "cell_type": "markdown",
      "metadata": {
        "id": "sDxGdTCCVSyt"
      },
      "source": [
        "Scale 5, the data mostly covered is in medium and low range\n",
        "Scale 6 covered data with medium \n",
        "Scale 7 has medium and high quality\n",
        "Scale 8 and above covered mostly high"
      ]
    },
    {
      "cell_type": "markdown",
      "metadata": {
        "id": "OEp_I5rd7kCU"
      },
      "source": [
        "### 4.1.4 Plot the frequency table for Bath and Price Category, also plot Barplot and derive inference from it?"
      ]
    },
    {
      "cell_type": "code",
      "metadata": {
        "id": "EXO-4gAa7kCU",
        "colab": {
          "base_uri": "https://localhost:8080/",
          "height": 195
        },
        "outputId": "d1cd1b90-b030-41c2-8c1f-4e0c692cbb23"
      },
      "source": [
        "freq_table2 = pd.crosstab(index=data[\"Bath\"], \n",
        "                          columns = data[\"PriceCategory\"])\n",
        "freq_table2"
      ],
      "execution_count": 45,
      "outputs": [
        {
          "output_type": "execute_result",
          "data": {
            "text/html": [
              "<div>\n",
              "<style scoped>\n",
              "    .dataframe tbody tr th:only-of-type {\n",
              "        vertical-align: middle;\n",
              "    }\n",
              "\n",
              "    .dataframe tbody tr th {\n",
              "        vertical-align: top;\n",
              "    }\n",
              "\n",
              "    .dataframe thead th {\n",
              "        text-align: right;\n",
              "    }\n",
              "</style>\n",
              "<table border=\"1\" class=\"dataframe\">\n",
              "  <thead>\n",
              "    <tr style=\"text-align: right;\">\n",
              "      <th>PriceCategory</th>\n",
              "      <th>high</th>\n",
              "      <th>low</th>\n",
              "      <th>medium</th>\n",
              "    </tr>\n",
              "    <tr>\n",
              "      <th>Bath</th>\n",
              "      <th></th>\n",
              "      <th></th>\n",
              "      <th></th>\n",
              "    </tr>\n",
              "  </thead>\n",
              "  <tbody>\n",
              "    <tr>\n",
              "      <th>0</th>\n",
              "      <td>0</td>\n",
              "      <td>1</td>\n",
              "      <td>2</td>\n",
              "    </tr>\n",
              "    <tr>\n",
              "      <th>1</th>\n",
              "      <td>32</td>\n",
              "      <td>303</td>\n",
              "      <td>314</td>\n",
              "    </tr>\n",
              "    <tr>\n",
              "      <th>2</th>\n",
              "      <td>377</td>\n",
              "      <td>61</td>\n",
              "      <td>337</td>\n",
              "    </tr>\n",
              "    <tr>\n",
              "      <th>3</th>\n",
              "      <td>26</td>\n",
              "      <td>0</td>\n",
              "      <td>7</td>\n",
              "    </tr>\n",
              "  </tbody>\n",
              "</table>\n",
              "</div>"
            ],
            "text/plain": [
              "PriceCategory  high  low  medium\n",
              "Bath                            \n",
              "0                 0    1       2\n",
              "1                32  303     314\n",
              "2               377   61     337\n",
              "3                26    0       7"
            ]
          },
          "metadata": {
            "tags": []
          },
          "execution_count": 45
        }
      ]
    },
    {
      "cell_type": "code",
      "metadata": {
        "id": "9ts8kjzf7kCX",
        "colab": {
          "base_uri": "https://localhost:8080/",
          "height": 510
        },
        "outputId": "d1000dd9-f465-4c45-a773-f9d225a66cb0"
      },
      "source": [
        "freq_table2.plot(kind ='bar',\n",
        "                 figsize = (8,8))"
      ],
      "execution_count": 48,
      "outputs": [
        {
          "output_type": "execute_result",
          "data": {
            "text/plain": [
              "<matplotlib.axes._subplots.AxesSubplot at 0x7f8694713a20>"
            ]
          },
          "metadata": {
            "tags": []
          },
          "execution_count": 48
        },
        {
          "output_type": "display_data",
          "data": {
            "image/png": "[encoded data removed]",
            "text/plain": [
              "<Figure size 576x576 with 1 Axes>"
            ]
          },
          "metadata": {
            "tags": [],
            "needs_background": "light"
          }
        }
      ]
    },
    {
      "cell_type": "markdown",
      "metadata": {
        "id": "HPrUIRgz7kCh"
      },
      "source": [
        "### 4.1.6 Kitchen and Price Category"
      ]
    },
    {
      "cell_type": "code",
      "metadata": {
        "id": "rhs_hiIB7kCh",
        "colab": {
          "base_uri": "https://localhost:8080/",
          "height": 195
        },
        "outputId": "9ea49cb2-26b2-4ab6-eda3-12b8384aa3f6"
      },
      "source": [
        "freq_table = pd.crosstab(index=data[\"Kitchen\"], \n",
        "                          columns=data[\"PriceCategory\"])\n",
        "freq_table"
      ],
      "execution_count": 49,
      "outputs": [
        {
          "output_type": "execute_result",
          "data": {
            "text/html": [
              "<div>\n",
              "<style scoped>\n",
              "    .dataframe tbody tr th:only-of-type {\n",
              "        vertical-align: middle;\n",
              "    }\n",
              "\n",
              "    .dataframe tbody tr th {\n",
              "        vertical-align: top;\n",
              "    }\n",
              "\n",
              "    .dataframe thead th {\n",
              "        text-align: right;\n",
              "    }\n",
              "</style>\n",
              "<table border=\"1\" class=\"dataframe\">\n",
              "  <thead>\n",
              "    <tr style=\"text-align: right;\">\n",
              "      <th>PriceCategory</th>\n",
              "      <th>high</th>\n",
              "      <th>low</th>\n",
              "      <th>medium</th>\n",
              "    </tr>\n",
              "    <tr>\n",
              "      <th>Kitchen</th>\n",
              "      <th></th>\n",
              "      <th></th>\n",
              "      <th></th>\n",
              "    </tr>\n",
              "  </thead>\n",
              "  <tbody>\n",
              "    <tr>\n",
              "      <th>0</th>\n",
              "      <td>0</td>\n",
              "      <td>1</td>\n",
              "      <td>0</td>\n",
              "    </tr>\n",
              "    <tr>\n",
              "      <th>1</th>\n",
              "      <td>431</td>\n",
              "      <td>330</td>\n",
              "      <td>631</td>\n",
              "    </tr>\n",
              "    <tr>\n",
              "      <th>2</th>\n",
              "      <td>4</td>\n",
              "      <td>32</td>\n",
              "      <td>29</td>\n",
              "    </tr>\n",
              "    <tr>\n",
              "      <th>3</th>\n",
              "      <td>0</td>\n",
              "      <td>2</td>\n",
              "      <td>0</td>\n",
              "    </tr>\n",
              "  </tbody>\n",
              "</table>\n",
              "</div>"
            ],
            "text/plain": [
              "PriceCategory  high  low  medium\n",
              "Kitchen                         \n",
              "0                 0    1       0\n",
              "1               431  330     631\n",
              "2                 4   32      29\n",
              "3                 0    2       0"
            ]
          },
          "metadata": {
            "tags": []
          },
          "execution_count": 49
        }
      ]
    },
    {
      "cell_type": "code",
      "metadata": {
        "id": "UiMHlYsY7kCj",
        "colab": {
          "base_uri": "https://localhost:8080/",
          "height": 493
        },
        "outputId": "96e69744-c895-4912-a5ae-08c240f16bae"
      },
      "source": [
        "freq_table.plot(kind=\"bar\", \n",
        "                 figsize=(8,8));"
      ],
      "execution_count": 50,
      "outputs": [
        {
          "output_type": "display_data",
          "data": {
            "image/png": "[encoded data removed]",
            "text/plain": [
              "<Figure size 576x576 with 1 Axes>"
            ]
          },
          "metadata": {
            "tags": [],
            "needs_background": "light"
          }
        }
      ]
    },
    {
      "cell_type": "markdown",
      "metadata": {
        "id": "NCp3EmKw7kCl"
      },
      "source": [
        "* Most of the houses have only 1 kitchen.\n",
        "* Most of these houses lie in medium price category followed by high and low price category"
      ]
    },
    {
      "cell_type": "markdown",
      "metadata": {
        "id": "0WvQKkog7kCm"
      },
      "source": [
        "### 4.1.7 Rooms and Price Category"
      ]
    },
    {
      "cell_type": "code",
      "metadata": {
        "id": "5znCJdNX7kCm",
        "colab": {
          "base_uri": "https://localhost:8080/",
          "height": 432
        },
        "outputId": "d88ef738-9875-4b9d-c04f-b910c4a37929"
      },
      "source": [
        "freq_table = pd.crosstab(index=data[\"Rooms\"], \n",
        "                          columns=data[\"PriceCategory\"])\n",
        "freq_table"
      ],
      "execution_count": 51,
      "outputs": [
        {
          "output_type": "execute_result",
          "data": {
            "text/html": [
              "<div>\n",
              "<style scoped>\n",
              "    .dataframe tbody tr th:only-of-type {\n",
              "        vertical-align: middle;\n",
              "    }\n",
              "\n",
              "    .dataframe tbody tr th {\n",
              "        vertical-align: top;\n",
              "    }\n",
              "\n",
              "    .dataframe thead th {\n",
              "        text-align: right;\n",
              "    }\n",
              "</style>\n",
              "<table border=\"1\" class=\"dataframe\">\n",
              "  <thead>\n",
              "    <tr style=\"text-align: right;\">\n",
              "      <th>PriceCategory</th>\n",
              "      <th>high</th>\n",
              "      <th>low</th>\n",
              "      <th>medium</th>\n",
              "    </tr>\n",
              "    <tr>\n",
              "      <th>Rooms</th>\n",
              "      <th></th>\n",
              "      <th></th>\n",
              "      <th></th>\n",
              "    </tr>\n",
              "  </thead>\n",
              "  <tbody>\n",
              "    <tr>\n",
              "      <th>2</th>\n",
              "      <td>0</td>\n",
              "      <td>1</td>\n",
              "      <td>0</td>\n",
              "    </tr>\n",
              "    <tr>\n",
              "      <th>3</th>\n",
              "      <td>0</td>\n",
              "      <td>9</td>\n",
              "      <td>8</td>\n",
              "    </tr>\n",
              "    <tr>\n",
              "      <th>4</th>\n",
              "      <td>5</td>\n",
              "      <td>59</td>\n",
              "      <td>33</td>\n",
              "    </tr>\n",
              "    <tr>\n",
              "      <th>5</th>\n",
              "      <td>22</td>\n",
              "      <td>133</td>\n",
              "      <td>120</td>\n",
              "    </tr>\n",
              "    <tr>\n",
              "      <th>6</th>\n",
              "      <td>70</td>\n",
              "      <td>93</td>\n",
              "      <td>239</td>\n",
              "    </tr>\n",
              "    <tr>\n",
              "      <th>7</th>\n",
              "      <td>133</td>\n",
              "      <td>39</td>\n",
              "      <td>157</td>\n",
              "    </tr>\n",
              "    <tr>\n",
              "      <th>8</th>\n",
              "      <td>96</td>\n",
              "      <td>18</td>\n",
              "      <td>73</td>\n",
              "    </tr>\n",
              "    <tr>\n",
              "      <th>9</th>\n",
              "      <td>57</td>\n",
              "      <td>5</td>\n",
              "      <td>13</td>\n",
              "    </tr>\n",
              "    <tr>\n",
              "      <th>10</th>\n",
              "      <td>32</td>\n",
              "      <td>5</td>\n",
              "      <td>10</td>\n",
              "    </tr>\n",
              "    <tr>\n",
              "      <th>11</th>\n",
              "      <td>13</td>\n",
              "      <td>3</td>\n",
              "      <td>2</td>\n",
              "    </tr>\n",
              "    <tr>\n",
              "      <th>12</th>\n",
              "      <td>6</td>\n",
              "      <td>0</td>\n",
              "      <td>5</td>\n",
              "    </tr>\n",
              "    <tr>\n",
              "      <th>14</th>\n",
              "      <td>1</td>\n",
              "      <td>0</td>\n",
              "      <td>0</td>\n",
              "    </tr>\n",
              "  </tbody>\n",
              "</table>\n",
              "</div>"
            ],
            "text/plain": [
              "PriceCategory  high  low  medium\n",
              "Rooms                           \n",
              "2                 0    1       0\n",
              "3                 0    9       8\n",
              "4                 5   59      33\n",
              "5                22  133     120\n",
              "6                70   93     239\n",
              "7               133   39     157\n",
              "8                96   18      73\n",
              "9                57    5      13\n",
              "10               32    5      10\n",
              "11               13    3       2\n",
              "12                6    0       5\n",
              "14                1    0       0"
            ]
          },
          "metadata": {
            "tags": []
          },
          "execution_count": 51
        }
      ]
    },
    {
      "cell_type": "code",
      "metadata": {
        "id": "CPbM7BiH7kCo",
        "colab": {
          "base_uri": "https://localhost:8080/",
          "height": 502
        },
        "outputId": "bea97e9e-f00d-4972-9a4c-af083822d7de"
      },
      "source": [
        "freq_table.plot(kind=\"bar\", \n",
        "                 figsize=(8,8));"
      ],
      "execution_count": 52,
      "outputs": [
        {
          "output_type": "display_data",
          "data": {
            "image/png": "[encoded data removed]",
            "text/plain": [
              "<Figure size 576x576 with 1 Axes>"
            ]
          },
          "metadata": {
            "tags": [],
            "needs_background": "light"
          }
        }
      ]
    },
    {
      "cell_type": "markdown",
      "metadata": {
        "id": "dLKGHHTM7kCq"
      },
      "source": [
        "* Most of the houses with lesser numer of rooms(1-5) lie in low price category\n",
        "* Most of the houses with medium number of rooms (6-7) lie in medium price category\n",
        "* Most of the houses with high number of rooms (8-14) liw in high price category"
      ]
    },
    {
      "cell_type": "markdown",
      "metadata": {
        "id": "2ChPWpyC7kCq"
      },
      "source": [
        "### 4.1.8 Parking Space and Price Category"
      ]
    },
    {
      "cell_type": "code",
      "metadata": {
        "id": "iNUYHQ0C7kCr",
        "colab": {
          "base_uri": "https://localhost:8080/",
          "height": 225
        },
        "outputId": "c0476f5b-fc8e-417a-898b-8cf67f8b01a6"
      },
      "source": [
        "freq_table = pd.crosstab(index=data[\"Parking Space\"], \n",
        "                          columns=data[\"PriceCategory\"])\n",
        "freq_table"
      ],
      "execution_count": 53,
      "outputs": [
        {
          "output_type": "execute_result",
          "data": {
            "text/html": [
              "<div>\n",
              "<style scoped>\n",
              "    .dataframe tbody tr th:only-of-type {\n",
              "        vertical-align: middle;\n",
              "    }\n",
              "\n",
              "    .dataframe tbody tr th {\n",
              "        vertical-align: top;\n",
              "    }\n",
              "\n",
              "    .dataframe thead th {\n",
              "        text-align: right;\n",
              "    }\n",
              "</style>\n",
              "<table border=\"1\" class=\"dataframe\">\n",
              "  <thead>\n",
              "    <tr style=\"text-align: right;\">\n",
              "      <th>PriceCategory</th>\n",
              "      <th>high</th>\n",
              "      <th>low</th>\n",
              "      <th>medium</th>\n",
              "    </tr>\n",
              "    <tr>\n",
              "      <th>Parking Space</th>\n",
              "      <th></th>\n",
              "      <th></th>\n",
              "      <th></th>\n",
              "    </tr>\n",
              "  </thead>\n",
              "  <tbody>\n",
              "    <tr>\n",
              "      <th>0</th>\n",
              "      <td>2</td>\n",
              "      <td>66</td>\n",
              "      <td>13</td>\n",
              "    </tr>\n",
              "    <tr>\n",
              "      <th>1</th>\n",
              "      <td>9</td>\n",
              "      <td>196</td>\n",
              "      <td>164</td>\n",
              "    </tr>\n",
              "    <tr>\n",
              "      <th>2</th>\n",
              "      <td>260</td>\n",
              "      <td>96</td>\n",
              "      <td>468</td>\n",
              "    </tr>\n",
              "    <tr>\n",
              "      <th>3</th>\n",
              "      <td>161</td>\n",
              "      <td>6</td>\n",
              "      <td>14</td>\n",
              "    </tr>\n",
              "    <tr>\n",
              "      <th>4</th>\n",
              "      <td>3</td>\n",
              "      <td>1</td>\n",
              "      <td>1</td>\n",
              "    </tr>\n",
              "  </tbody>\n",
              "</table>\n",
              "</div>"
            ],
            "text/plain": [
              "PriceCategory  high  low  medium\n",
              "Parking Space                   \n",
              "0                 2   66      13\n",
              "1                 9  196     164\n",
              "2               260   96     468\n",
              "3               161    6      14\n",
              "4                 3    1       1"
            ]
          },
          "metadata": {
            "tags": []
          },
          "execution_count": 53
        }
      ]
    },
    {
      "cell_type": "code",
      "metadata": {
        "id": "50sbmvn67kCt",
        "colab": {
          "base_uri": "https://localhost:8080/",
          "height": 493
        },
        "outputId": "83f13b00-023e-4d24-a548-501b46fe69d1"
      },
      "source": [
        "freq_table.plot(kind=\"bar\", \n",
        "                 figsize=(8,8));"
      ],
      "execution_count": 54,
      "outputs": [
        {
          "output_type": "display_data",
          "data": {
            "image/png": "[encoded data removed]",
            "text/plain": [
              "<Figure size 576x576 with 1 Axes>"
            ]
          },
          "metadata": {
            "tags": [],
            "needs_background": "light"
          }
        }
      ]
    },
    {
      "cell_type": "markdown",
      "metadata": {
        "id": "O48EhzOK7kCv"
      },
      "source": [
        "* Most of the houses with 0 or 1 type of Parking Space have low price category\n",
        "* Most of the houses with 2,3 or 4 type of Parking Space have medium or high price category"
      ]
    },
    {
      "cell_type": "markdown",
      "metadata": {
        "id": "yvZMedft7kCw"
      },
      "source": [
        "## 4.2: Bivariate Cont-Cat"
      ]
    },
    {
      "cell_type": "code",
      "metadata": {
        "id": "nhtS4aX37kCw"
      },
      "source": [
        ""
      ],
      "execution_count": null,
      "outputs": []
    },
    {
      "cell_type": "markdown",
      "metadata": {
        "id": "PTivAdK_7kCy"
      },
      "source": [
        "* __Pivot Table__ :\n",
        "\n",
        "* High-level overview of the data at hand\n",
        "\n",
        "* Can analyse the granular details about multiple features of the data\n",
        "\n",
        "* Represent a two-dimensional table that provides a multidimensional summarization of the data\n",
        "\n",
        "* The levels in the pivot table will be stored in MultiIndex objects\n",
        "\n",
        "\n",
        "\n"
      ]
    },
    {
      "cell_type": "code",
      "metadata": {
        "id": "X_xYhHzB7kCz",
        "colab": {
          "base_uri": "https://localhost:8080/",
          "height": 166
        },
        "outputId": "c8011401-865b-4687-e779-6e7e96d077c0"
      },
      "source": [
        "Area_pivot = \\\n",
        "data.pivot_table(index='PriceCategory', values=\"LivArea\", aggfunc='mean')\n",
        "Area_pivot"
      ],
      "execution_count": 55,
      "outputs": [
        {
          "output_type": "execute_result",
          "data": {
            "text/html": [
              "<div>\n",
              "<style scoped>\n",
              "    .dataframe tbody tr th:only-of-type {\n",
              "        vertical-align: middle;\n",
              "    }\n",
              "\n",
              "    .dataframe tbody tr th {\n",
              "        vertical-align: top;\n",
              "    }\n",
              "\n",
              "    .dataframe thead th {\n",
              "        text-align: right;\n",
              "    }\n",
              "</style>\n",
              "<table border=\"1\" class=\"dataframe\">\n",
              "  <thead>\n",
              "    <tr style=\"text-align: right;\">\n",
              "      <th></th>\n",
              "      <th>LivArea</th>\n",
              "    </tr>\n",
              "    <tr>\n",
              "      <th>PriceCategory</th>\n",
              "      <th></th>\n",
              "    </tr>\n",
              "  </thead>\n",
              "  <tbody>\n",
              "    <tr>\n",
              "      <th>high</th>\n",
              "      <td>1988.222989</td>\n",
              "    </tr>\n",
              "    <tr>\n",
              "      <th>low</th>\n",
              "      <td>1113.536986</td>\n",
              "    </tr>\n",
              "    <tr>\n",
              "      <th>medium</th>\n",
              "      <td>1426.150000</td>\n",
              "    </tr>\n",
              "  </tbody>\n",
              "</table>\n",
              "</div>"
            ],
            "text/plain": [
              "                   LivArea\n",
              "PriceCategory             \n",
              "high           1988.222989\n",
              "low            1113.536986\n",
              "medium         1426.150000"
            ]
          },
          "metadata": {
            "tags": []
          },
          "execution_count": 55
        }
      ]
    },
    {
      "cell_type": "code",
      "metadata": {
        "id": "XLqRI-pO7kC1",
        "colab": {
          "base_uri": "https://localhost:8080/",
          "height": 458
        },
        "outputId": "fe3a785c-f7b4-4d7d-9d3f-a434d649f643"
      },
      "source": [
        "Area_pivot.plot(kind='bar', color='blue',figsize=(12,7))\n",
        "plt.xlabel(\"PriceCategory\")\n",
        "plt.ylabel(\"Area\")\n",
        "plt.title(\"Area and PriceCategory Analysis\")\n",
        "plt.xticks(rotation=0)\n",
        "plt.show()"
      ],
      "execution_count": 56,
      "outputs": [
        {
          "output_type": "display_data",
          "data": {
            "image/png": "[encoded data removed]",
            "text/plain": [
              "<Figure size 864x504 with 1 Axes>"
            ]
          },
          "metadata": {
            "tags": [],
            "needs_background": "light"
          }
        }
      ]
    },
    {
      "cell_type": "markdown",
      "metadata": {
        "id": "QYStYj2g7kC4"
      },
      "source": [
        "* Houses with high Price have higher average LivArea\n",
        "* Houses with low Price have lower average LivArea\n",
        "* Houses with Medium Prices have avergae LivArea higher than low Prices Houses and lesses than high Prices Houses"
      ]
    },
    {
      "cell_type": "markdown",
      "metadata": {
        "id": "f0if38VN7kC4"
      },
      "source": [
        "# 5: Base Model"
      ]
    },
    {
      "cell_type": "markdown",
      "metadata": {
        "id": "mcMo4ZKa7kC4"
      },
      "source": [
        "## 5.1 Rule Based Model over number of rooms"
      ]
    },
    {
      "cell_type": "code",
      "metadata": {
        "id": "K45nYbf57kC6"
      },
      "source": [
        "def rule_based_rooms(x):\n",
        "    if (x<=4):\n",
        "        return 'low'\n",
        "    elif ((x==5) | (x ==6)):\n",
        "        return 'medium'\n",
        "    else:\n",
        "        return 'high'"
      ],
      "execution_count": 61,
      "outputs": []
    },
    {
      "cell_type": "code",
      "metadata": {
        "id": "NqPgX03q7kC8"
      },
      "source": [
        "from sklearn.metrics import accuracy_score"
      ],
      "execution_count": 59,
      "outputs": []
    },
    {
      "cell_type": "markdown",
      "metadata": {
        "id": "0EKqsTIn7kC9"
      },
      "source": [
        "Scikit-learn is a free software machine learning library for the Python programming language. It features many machine learning algorithms."
      ]
    },
    {
      "cell_type": "code",
      "metadata": {
        "id": "IksV_FFn7kC-"
      },
      "source": [
        "data['prediction'] = data['Rooms'].apply(rule_based_rooms)"
      ],
      "execution_count": 62,
      "outputs": []
    },
    {
      "cell_type": "code",
      "metadata": {
        "id": "YCBNsOZ9Cmso",
        "colab": {
          "base_uri": "https://localhost:8080/",
          "height": 195
        },
        "outputId": "d1994d3b-6fc5-4b38-cc52-81881a96161e"
      },
      "source": [
        "data.head()"
      ],
      "execution_count": 63,
      "outputs": [
        {
          "output_type": "execute_result",
          "data": {
            "text/html": [
              "<div>\n",
              "<style scoped>\n",
              "    .dataframe tbody tr th:only-of-type {\n",
              "        vertical-align: middle;\n",
              "    }\n",
              "\n",
              "    .dataframe tbody tr th {\n",
              "        vertical-align: top;\n",
              "    }\n",
              "\n",
              "    .dataframe thead th {\n",
              "        text-align: right;\n",
              "    }\n",
              "</style>\n",
              "<table border=\"1\" class=\"dataframe\">\n",
              "  <thead>\n",
              "    <tr style=\"text-align: right;\">\n",
              "      <th></th>\n",
              "      <th>Id</th>\n",
              "      <th>Street</th>\n",
              "      <th>Shape</th>\n",
              "      <th>Utilities</th>\n",
              "      <th>OverallQual</th>\n",
              "      <th>YearBuilt</th>\n",
              "      <th>LivArea</th>\n",
              "      <th>Bath</th>\n",
              "      <th>Kitchen</th>\n",
              "      <th>Rooms</th>\n",
              "      <th>Parking Space</th>\n",
              "      <th>PriceCategory</th>\n",
              "      <th>prediction</th>\n",
              "    </tr>\n",
              "  </thead>\n",
              "  <tbody>\n",
              "    <tr>\n",
              "      <th>0</th>\n",
              "      <td>1</td>\n",
              "      <td>Pave</td>\n",
              "      <td>Reg</td>\n",
              "      <td>AllPub</td>\n",
              "      <td>7</td>\n",
              "      <td>2003</td>\n",
              "      <td>1710</td>\n",
              "      <td>2</td>\n",
              "      <td>1</td>\n",
              "      <td>8</td>\n",
              "      <td>2</td>\n",
              "      <td>high</td>\n",
              "      <td>high</td>\n",
              "    </tr>\n",
              "    <tr>\n",
              "      <th>1</th>\n",
              "      <td>2</td>\n",
              "      <td>Pave</td>\n",
              "      <td>Reg</td>\n",
              "      <td>AllPub</td>\n",
              "      <td>6</td>\n",
              "      <td>1976</td>\n",
              "      <td>1262</td>\n",
              "      <td>2</td>\n",
              "      <td>1</td>\n",
              "      <td>6</td>\n",
              "      <td>2</td>\n",
              "      <td>medium</td>\n",
              "      <td>medium</td>\n",
              "    </tr>\n",
              "    <tr>\n",
              "      <th>2</th>\n",
              "      <td>3</td>\n",
              "      <td>Pave</td>\n",
              "      <td>IReg</td>\n",
              "      <td>AllPub</td>\n",
              "      <td>7</td>\n",
              "      <td>2001</td>\n",
              "      <td>1786</td>\n",
              "      <td>2</td>\n",
              "      <td>1</td>\n",
              "      <td>6</td>\n",
              "      <td>2</td>\n",
              "      <td>high</td>\n",
              "      <td>medium</td>\n",
              "    </tr>\n",
              "    <tr>\n",
              "      <th>3</th>\n",
              "      <td>4</td>\n",
              "      <td>Pave</td>\n",
              "      <td>IReg</td>\n",
              "      <td>AllPub</td>\n",
              "      <td>7</td>\n",
              "      <td>1915</td>\n",
              "      <td>1717</td>\n",
              "      <td>1</td>\n",
              "      <td>1</td>\n",
              "      <td>7</td>\n",
              "      <td>3</td>\n",
              "      <td>medium</td>\n",
              "      <td>high</td>\n",
              "    </tr>\n",
              "    <tr>\n",
              "      <th>4</th>\n",
              "      <td>5</td>\n",
              "      <td>Pave</td>\n",
              "      <td>IReg</td>\n",
              "      <td>AllPub</td>\n",
              "      <td>8</td>\n",
              "      <td>2000</td>\n",
              "      <td>2198</td>\n",
              "      <td>2</td>\n",
              "      <td>1</td>\n",
              "      <td>9</td>\n",
              "      <td>3</td>\n",
              "      <td>high</td>\n",
              "      <td>high</td>\n",
              "    </tr>\n",
              "  </tbody>\n",
              "</table>\n",
              "</div>"
            ],
            "text/plain": [
              "   Id Street Shape Utilities  ...  Rooms  Parking Space  PriceCategory  prediction\n",
              "0   1   Pave   Reg    AllPub  ...      8              2           high        high\n",
              "1   2   Pave   Reg    AllPub  ...      6              2         medium      medium\n",
              "2   3   Pave  IReg    AllPub  ...      6              2           high      medium\n",
              "3   4   Pave  IReg    AllPub  ...      7              3         medium        high\n",
              "4   5   Pave  IReg    AllPub  ...      9              3           high        high\n",
              "\n",
              "[5 rows x 13 columns]"
            ]
          },
          "metadata": {
            "tags": []
          },
          "execution_count": 63
        }
      ]
    },
    {
      "cell_type": "code",
      "metadata": {
        "id": "EWUV5Z6ZClMo",
        "colab": {
          "base_uri": "https://localhost:8080/"
        },
        "outputId": "7e934238-9efd-4922-b1be-b350d872f8ea"
      },
      "source": [
        "accuracy_score(data['prediction'], data['PriceCategory'])"
      ],
      "execution_count": 64,
      "outputs": [
        {
          "output_type": "execute_result",
          "data": {
            "text/plain": [
              "0.5246575342465754"
            ]
          },
          "metadata": {
            "tags": []
          },
          "execution_count": 64
        }
      ]
    },
    {
      "cell_type": "markdown",
      "metadata": {
        "id": "Q3sBrESI7kC_"
      },
      "source": [
        "* If Number of rooms are less than 4 then we are considering the house to lie in low Price category\n",
        "* If Number of rooms are either 5 or 6 then we are considering the house to lie in medium Price category\n",
        "* If Number of rooms are greater than 7 then we are considering the house to lie in high Price category"
      ]
    },
    {
      "cell_type": "markdown",
      "metadata": {
        "id": "ryh7qiZ-7kDA"
      },
      "source": [
        "## 5.2 Rule Based Model over parking space"
      ]
    },
    {
      "cell_type": "code",
      "metadata": {
        "id": "4gK_wRbu7kDA"
      },
      "source": [
        "def rule_based_parking_space(x):\n",
        "    if (x<=1):\n",
        "        return \"low\"\n",
        "    elif (x==2):\n",
        "        return 'medium'\n",
        "    else:\n",
        "      return 'high'"
      ],
      "execution_count": 65,
      "outputs": []
    },
    {
      "cell_type": "code",
      "metadata": {
        "id": "OqgGzxdz7kDB",
        "colab": {
          "base_uri": "https://localhost:8080/"
        },
        "outputId": "62256426-1667-47dd-b454-056747957ac6"
      },
      "source": [
        "data['prediction'] = data['Parking Space'].apply(rule_based_parking_space)\n",
        "accuracy_score(data['prediction'], data['PriceCategory'])"
      ],
      "execution_count": 71,
      "outputs": [
        {
          "output_type": "execute_result",
          "data": {
            "text/plain": [
              "0.6123287671232877"
            ]
          },
          "metadata": {
            "tags": []
          },
          "execution_count": 71
        }
      ]
    },
    {
      "cell_type": "code",
      "metadata": {
        "id": "lz4J26T-nRa1",
        "colab": {
          "base_uri": "https://localhost:8080/"
        },
        "outputId": "7fd6f0b7-2a0e-4ba3-c8ab-ebcf2c99c35b"
      },
      "source": [
        "data['prediction'].head()"
      ],
      "execution_count": 72,
      "outputs": [
        {
          "output_type": "execute_result",
          "data": {
            "text/plain": [
              "0    medium\n",
              "1    medium\n",
              "2    medium\n",
              "3      high\n",
              "4      high\n",
              "Name: prediction, dtype: object"
            ]
          },
          "metadata": {
            "tags": []
          },
          "execution_count": 72
        }
      ]
    },
    {
      "cell_type": "markdown",
      "metadata": {
        "id": "nRKjWtjU7kDD"
      },
      "source": [
        "* If Parking space is of type 0 or 1 then we are considering the house to lie in low Price category\n",
        "* If Parking space is of type 2  then we are considering the house to lie in medium Price category\n",
        "* If Parking space is of type 3 or 4 then we are considering the house to lie in high Price category"
      ]
    },
    {
      "cell_type": "markdown",
      "metadata": {
        "id": "2E0VtROi7kDF"
      },
      "source": [
        "## 5.3 Create a rule based Model using Overall quality and find out the accuracy?"
      ]
    },
    {
      "cell_type": "code",
      "metadata": {
        "id": "ZP8YDpz-7kDF"
      },
      "source": [
        "def rule_based_overallquality(x):\n",
        "  if (x<5):\n",
        "    return 'low'\n",
        "  elif (x>5) and (x<7):\n",
        "    return 'medium'\n",
        "  else:\n",
        "    return 'high'"
      ],
      "execution_count": 68,
      "outputs": []
    },
    {
      "cell_type": "code",
      "metadata": {
        "id": "CqdPxyKE7kDH",
        "colab": {
          "base_uri": "https://localhost:8080/"
        },
        "outputId": "7af922f7-b65c-4010-bd61-c14b9e5c4361"
      },
      "source": [
        "data['prediction'] = data['OverallQual'].apply(rule_based_overallquality)\n",
        "accuracy_score(data['prediction'], data['PriceCategory'])"
      ],
      "execution_count": 70,
      "outputs": [
        {
          "output_type": "execute_result",
          "data": {
            "text/plain": [
              "0.5171232876712328"
            ]
          },
          "metadata": {
            "tags": []
          },
          "execution_count": 70
        }
      ]
    },
    {
      "cell_type": "code",
      "metadata": {
        "id": "b0iBUNC87kDJ",
        "colab": {
          "base_uri": "https://localhost:8080/"
        },
        "outputId": "bc27e555-935a-480a-a745-66c15f1864a1"
      },
      "source": [
        "data['OverallQual'].head()"
      ],
      "execution_count": 73,
      "outputs": [
        {
          "output_type": "execute_result",
          "data": {
            "text/plain": [
              "0    7\n",
              "1    6\n",
              "2    7\n",
              "3    7\n",
              "4    8\n",
              "Name: OverallQual, dtype: int64"
            ]
          },
          "metadata": {
            "tags": []
          },
          "execution_count": 73
        }
      ]
    },
    {
      "cell_type": "code",
      "metadata": {
        "colab": {
          "base_uri": "https://localhost:8080/"
        },
        "id": "tbfvlEIgXKjM",
        "outputId": "97c2218a-a9a3-4092-81d2-8563605122b9"
      },
      "source": [
        "data['prediction'].head()"
      ],
      "execution_count": 74,
      "outputs": [
        {
          "output_type": "execute_result",
          "data": {
            "text/plain": [
              "0    medium\n",
              "1    medium\n",
              "2    medium\n",
              "3      high\n",
              "4      high\n",
              "Name: prediction, dtype: object"
            ]
          },
          "metadata": {
            "tags": []
          },
          "execution_count": 74
        }
      ]
    },
    {
      "cell_type": "markdown",
      "metadata": {
        "id": "vxYrSnun7kDL"
      },
      "source": [
        "## 5.4 Rule Based Model over parking space and living Area"
      ]
    },
    {
      "cell_type": "code",
      "metadata": {
        "id": "pcEquKrh7kDN"
      },
      "source": [
        "def rule_based_ps_la(row):\n",
        "    x1 = row[0]\n",
        "    x2 = row[1]\n",
        "    if (x1 >= 3):\n",
        "        return 'high'\n",
        "    elif ((x1==2) & (x2>1600)):\n",
        "        return 'high'\n",
        "    elif ((x1==2) & (x2<=900)):\n",
        "        return 'low'\n",
        "    elif(x1==2):\n",
        "        return 'medium'\n",
        "    elif ((x1==1) & x2 > 1200):\n",
        "        return 'medium'\n",
        "    else:\n",
        "        return 'low'"
      ],
      "execution_count": 75,
      "outputs": []
    },
    {
      "cell_type": "code",
      "metadata": {
        "id": "OY_d0BH17kDP",
        "colab": {
          "base_uri": "https://localhost:8080/"
        },
        "outputId": "1f4740f7-b664-4aea-88fb-6a884bda4827"
      },
      "source": [
        "data['prediction'] = data[['Parking Space', 'LivArea']].apply(rule_based_ps_la, axis=1)\n",
        "accuracy_score(data['prediction'], data['PriceCategory'])"
      ],
      "execution_count": 76,
      "outputs": [
        {
          "output_type": "execute_result",
          "data": {
            "text/plain": [
              "0.6541095890410958"
            ]
          },
          "metadata": {
            "tags": []
          },
          "execution_count": 76
        }
      ]
    },
    {
      "cell_type": "markdown",
      "metadata": {
        "id": "FEoavhZF7kDS"
      },
      "source": [
        "## Identify what the above function (5.4) is doing?"
      ]
    },
    {
      "cell_type": "code",
      "metadata": {
        "id": "QoAiOeUF7kDT"
      },
      "source": [
        "The code check with parking space and living area and based on that create rules for price category"
      ],
      "execution_count": null,
      "outputs": []
    }
  ]
}